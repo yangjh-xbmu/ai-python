{
 "cells": [
  {
   "cell_type": "code",
   "execution_count": 3,
   "metadata": {},
   "outputs": [],
   "source": [
    "from stu import age"
   ]
  },
  {
   "cell_type": "code",
   "execution_count": 4,
   "metadata": {},
   "outputs": [
    {
     "data": {
      "text/plain": [
       "18"
      ]
     },
     "execution_count": 4,
     "metadata": {},
     "output_type": "execute_result"
    }
   ],
   "source": [
    "age"
   ]
  },
  {
   "cell_type": "code",
   "execution_count": 1,
   "metadata": {},
   "outputs": [],
   "source": [
    "import xf"
   ]
  },
  {
   "cell_type": "code",
   "execution_count": null,
   "metadata": {},
   "outputs": [],
   "source": [
    "originText = '''我具备多种先进的能利，包括文本生成、图片理解与生成、多语种翻译、代码生成与理解、知识问答、'''\n",
    "xf.detect_text_errors(originText)"
   ]
  },
  {
   "cell_type": "code",
   "execution_count": 5,
   "metadata": {},
   "outputs": [
    {
     "data": {
      "text/plain": [
       "'我具备多种先进的能力，包括文本生成、图片理解与生成、多语种翻译、代码生成与理解、知识问答、论文生成、数学问题解答和推理等。这些能力使我能够在多个领域提供帮助和支持。\\n\\n利用这些能力，我可以完成各种任务：例如，通过文本生成能力，我能够撰写文章、故事或者生成创意内容；通过图片理解与生成能力，可以分析和解读图片内容或者创作新的图像；多语种翻译能力让我能够理解和翻译多种语言的文本，便于跨文化交流；代码生成与理解能力使我能够帮助编程学习者理解代码逻辑或生成代码片段；知识问答能力让我能够回答各个领域的问题，支持学术研究和日常学习；论文生成能力可以帮助撰写学术论文，促进研究成果的表达；数学问题解答能力则可以协助解决数学题目，适合教育和自学场景；最后，我的推理能力有助于进行逻辑推断和决策分析。\\n\\n这些能力的结合不仅提升了我在单一领域的应用效果，也使得我能够在复杂和多样化的任务中发挥作用，为用户带来全面的支持和服务。'"
      ]
     },
     "execution_count": 5,
     "metadata": {},
     "output_type": "execute_result"
    }
   ],
   "source": [
    "xf.xfllm('介绍你的能力')"
   ]
  },
  {
   "cell_type": "code",
   "execution_count": 4,
   "metadata": {},
   "outputs": [
    {
     "name": "stdout",
     "output_type": "stream",
     "text": [
      "豆浆喝一碗，倒一碗。\n"
     ]
    }
   ],
   "source": [
    "# f分支语句 if else\n",
    "total = 150\n",
    "if total >= 100:\n",
    "    print('豆浆喝一碗，倒一碗。')\n",
    "else:\n",
    "    print('好好赚钱。')"
   ]
  },
  {
   "cell_type": "code",
   "execution_count": 5,
   "metadata": {},
   "outputs": [
    {
     "name": "stdout",
     "output_type": "stream",
     "text": [
      "1\n",
      "2\n",
      "3\n",
      "4\n",
      "5\n",
      "6\n",
      "7\n",
      "8\n",
      "9\n"
     ]
    }
   ],
   "source": [
    "for i in range(1,10):\n",
    "    print(i)"
   ]
  },
  {
   "cell_type": "code",
   "execution_count": 7,
   "metadata": {},
   "outputs": [
    {
     "name": "stdout",
     "output_type": "stream",
     "text": [
      "伟\n",
      "大\n",
      "的\n",
      "中\n",
      "华\n",
      "人\n",
      "民\n",
      "共\n",
      "和\n",
      "国\n",
      "万\n",
      "岁\n",
      "！\n"
     ]
    }
   ],
   "source": [
    "list1 = \"伟大的中华人民共和国万岁！\"\n",
    "for i in list1:\n",
    "    print(i)"
   ]
  },
  {
   "cell_type": "code",
   "execution_count": 10,
   "metadata": {},
   "outputs": [],
   "source": [
    "import stu"
   ]
  },
  {
   "cell_type": "code",
   "execution_count": 11,
   "metadata": {},
   "outputs": [
    {
     "data": {
      "text/plain": [
       "18"
      ]
     },
     "execution_count": 11,
     "metadata": {},
     "output_type": "execute_result"
    }
   ],
   "source": [
    "stu.age"
   ]
  },
  {
   "cell_type": "code",
   "execution_count": 12,
   "metadata": {},
   "outputs": [
    {
     "data": {
      "text/plain": [
       "'新闻学'"
      ]
     },
     "execution_count": 12,
     "metadata": {},
     "output_type": "execute_result"
    }
   ],
   "source": [
    "stu.major"
   ]
  },
  {
   "cell_type": "code",
   "execution_count": 13,
   "metadata": {},
   "outputs": [
    {
     "name": "stdout",
     "output_type": "stream",
     "text": [
      "Hi！\n"
     ]
    }
   ],
   "source": [
    "stu.sayHello()"
   ]
  }
 ],
 "metadata": {
  "kernelspec": {
   "display_name": "Python 3",
   "language": "python",
   "name": "python3"
  },
  "language_info": {
   "codemirror_mode": {
    "name": "ipython",
    "version": 3
   },
   "file_extension": ".py",
   "mimetype": "text/x-python",
   "name": "python",
   "nbconvert_exporter": "python",
   "pygments_lexer": "ipython3",
   "version": "3.8.10"
  },
  "orig_nbformat": 4
 },
 "nbformat": 4,
 "nbformat_minor": 2
}
