{
 "cells": [
  {
   "cell_type": "code",
   "execution_count": 1,
   "metadata": {},
   "outputs": [],
   "source": [
    "import pandas as pd\n",
    "import mytools"
   ]
  },
  {
   "cell_type": "code",
   "execution_count": 2,
   "metadata": {},
   "outputs": [
    {
     "name": "stdout",
     "output_type": "stream",
     "text": [
      "tau_y系数: 0.0147 极弱相关或无相关\n",
      "------  --  ---  ---\n",
      "211      6   56   57\n",
      "985      8   22   34\n",
      "双一流   6   13   19\n",
      "双非    20  206  167\n",
      "民办     1   13    6\n",
      "------  --  ---  ---\n",
      "卡方值： 19.80, p值： 0.0111,自由度:8。\n",
      "拒绝虚无假设\n"
     ]
    }
   ],
   "source": [
    "df = pd.read_csv('data/2022计算机设计大赛国奖清理后-增加变量.csv')\n",
    "mytools.两个无序类别变量的统计分析(df, '学校类别', '奖项')"
   ]
  }
 ],
 "metadata": {
  "kernelspec": {
   "display_name": "Python 3",
   "language": "python",
   "name": "python3"
  },
  "language_info": {
   "codemirror_mode": {
    "name": "ipython",
    "version": 3
   },
   "file_extension": ".py",
   "mimetype": "text/x-python",
   "name": "python",
   "nbconvert_exporter": "python",
   "pygments_lexer": "ipython3",
   "version": "3.8.10"
  }
 },
 "nbformat": 4,
 "nbformat_minor": 2
}
