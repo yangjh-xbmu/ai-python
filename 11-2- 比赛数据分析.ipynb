{
 "cells": [
  {
   "cell_type": "code",
   "execution_count": 7,
   "metadata": {},
   "outputs": [
    {
     "data": {
      "text/html": [
       "<div>\n",
       "<style scoped>\n",
       "    .dataframe tbody tr th:only-of-type {\n",
       "        vertical-align: middle;\n",
       "    }\n",
       "\n",
       "    .dataframe tbody tr th {\n",
       "        vertical-align: top;\n",
       "    }\n",
       "\n",
       "    .dataframe thead th {\n",
       "        text-align: right;\n",
       "    }\n",
       "</style>\n",
       "<table border=\"1\" class=\"dataframe\">\n",
       "  <thead>\n",
       "    <tr style=\"text-align: right;\">\n",
       "      <th></th>\n",
       "      <th>大类名称</th>\n",
       "      <th>奖项</th>\n",
       "      <th>作品编号</th>\n",
       "      <th>作品名称</th>\n",
       "      <th>参赛学校</th>\n",
       "      <th>作者</th>\n",
       "      <th>指导教师</th>\n",
       "    </tr>\n",
       "  </thead>\n",
       "  <tbody>\n",
       "    <tr>\n",
       "      <th>0</th>\n",
       "      <td>大数据应用</td>\n",
       "      <td>二等奖</td>\n",
       "      <td>2022006286</td>\n",
       "      <td>基于公共匿名平台数据的高校大学生心理健康问题识别\\n系统</td>\n",
       "      <td>南京大学</td>\n",
       "      <td>汪舒宽,章梦晨,申佳蕾</td>\n",
       "      <td>戴新宇,陈颖</td>\n",
       "    </tr>\n",
       "    <tr>\n",
       "      <th>1</th>\n",
       "      <td>大数据应用</td>\n",
       "      <td>二等奖</td>\n",
       "      <td>2022009288</td>\n",
       "      <td>基于SOA农业大数据管理服务平台</td>\n",
       "      <td>石河子大学</td>\n",
       "      <td>杜蕾,李智轩,秦源</td>\n",
       "      <td>于宝华,陈凤</td>\n",
       "    </tr>\n",
       "    <tr>\n",
       "      <th>2</th>\n",
       "      <td>大数据应用</td>\n",
       "      <td>二等奖</td>\n",
       "      <td>2022009615</td>\n",
       "      <td>基于对抗性迁移学习的药品不良反应监测研究</td>\n",
       "      <td>南京邮电大学</td>\n",
       "      <td>仲雨乐,陆豪杰,马诗雯</td>\n",
       "      <td>韩普</td>\n",
       "    </tr>\n",
       "    <tr>\n",
       "      <th>3</th>\n",
       "      <td>大数据应用</td>\n",
       "      <td>二等奖</td>\n",
       "      <td>2022009964</td>\n",
       "      <td>大数据技术在新冠病毒基因组序列分析中的应用</td>\n",
       "      <td>武汉学院</td>\n",
       "      <td>罗今灿,顾欣,郭迟</td>\n",
       "      <td>朱福喜,郑克松</td>\n",
       "    </tr>\n",
       "    <tr>\n",
       "      <th>4</th>\n",
       "      <td>大数据应用</td>\n",
       "      <td>二等奖</td>\n",
       "      <td>2022010069</td>\n",
       "      <td>数据解读新冠疫情与全球应对--基于因果机器学习的新\\n冠疫情与全球经济无偏分析</td>\n",
       "      <td>郑州大学</td>\n",
       "      <td>肖志轩,李承毅,牛力贤</td>\n",
       "      <td>薛均晓</td>\n",
       "    </tr>\n",
       "    <tr>\n",
       "      <th>...</th>\n",
       "      <td>...</td>\n",
       "      <td>...</td>\n",
       "      <td>...</td>\n",
       "      <td>...</td>\n",
       "      <td>...</td>\n",
       "      <td>...</td>\n",
       "      <td>...</td>\n",
       "    </tr>\n",
       "    <tr>\n",
       "      <th>4479</th>\n",
       "      <td>信息可视化设计</td>\n",
       "      <td>三等奖</td>\n",
       "      <td>2022062386</td>\n",
       "      <td>查研观岸——考研信息可视化平台</td>\n",
       "      <td>上海财经大学</td>\n",
       "      <td>张蓉,陆泽洁,薛惠文</td>\n",
       "      <td>刘桦</td>\n",
       "    </tr>\n",
       "    <tr>\n",
       "      <th>4480</th>\n",
       "      <td>信息可视化设计</td>\n",
       "      <td>三等奖</td>\n",
       "      <td>2022062407</td>\n",
       "      <td>校园数据可视化</td>\n",
       "      <td>上海师范大学天华学院</td>\n",
       "      <td>南平,郝嘉尉,谢思睿</td>\n",
       "      <td>时书剑,朱怀中</td>\n",
       "    </tr>\n",
       "    <tr>\n",
       "      <th>4481</th>\n",
       "      <td>信息可视化设计</td>\n",
       "      <td>三等奖</td>\n",
       "      <td>2022062461</td>\n",
       "      <td>海洋生态损害评估及数据可视化</td>\n",
       "      <td>上海对外经贸大学</td>\n",
       "      <td>莫茗柯,励诺,夏一凡</td>\n",
       "      <td>顾振宇,戴永辉</td>\n",
       "    </tr>\n",
       "    <tr>\n",
       "      <th>4482</th>\n",
       "      <td>信息可视化设计</td>\n",
       "      <td>三等奖</td>\n",
       "      <td>2022062468</td>\n",
       "      <td>疫情数据分析与基于神经网络的预测下的可视化</td>\n",
       "      <td>西南财经大学天府学院</td>\n",
       "      <td>王良成,房彬彬,麦林</td>\n",
       "      <td>龚轩涛,陈昌平</td>\n",
       "    </tr>\n",
       "    <tr>\n",
       "      <th>4483</th>\n",
       "      <td>信息可视化设计</td>\n",
       "      <td>三等奖</td>\n",
       "      <td>2022062479</td>\n",
       "      <td>睦邻战疫，“疫”心为人</td>\n",
       "      <td>上海师范大学天华学院</td>\n",
       "      <td>孙佳冲,郑俊杰,张浩楠</td>\n",
       "      <td>崔岩,丁龙</td>\n",
       "    </tr>\n",
       "  </tbody>\n",
       "</table>\n",
       "<p>4484 rows × 7 columns</p>\n",
       "</div>"
      ],
      "text/plain": [
       "         大类名称   奖项        作品编号                                     作品名称  \\\n",
       "0       大数据应用  二等奖  2022006286             基于公共匿名平台数据的高校大学生心理健康问题识别\\n系统   \n",
       "1       大数据应用  二等奖  2022009288                         基于SOA农业大数据管理服务平台   \n",
       "2       大数据应用  二等奖  2022009615                     基于对抗性迁移学习的药品不良反应监测研究   \n",
       "3       大数据应用  二等奖  2022009964                    大数据技术在新冠病毒基因组序列分析中的应用   \n",
       "4       大数据应用  二等奖  2022010069  数据解读新冠疫情与全球应对--基于因果机器学习的新\\n冠疫情与全球经济无偏分析   \n",
       "...       ...  ...         ...                                      ...   \n",
       "4479  信息可视化设计  三等奖  2022062386                          查研观岸——考研信息可视化平台   \n",
       "4480  信息可视化设计  三等奖  2022062407                                  校园数据可视化   \n",
       "4481  信息可视化设计  三等奖  2022062461                           海洋生态损害评估及数据可视化   \n",
       "4482  信息可视化设计  三等奖  2022062468                    疫情数据分析与基于神经网络的预测下的可视化   \n",
       "4483  信息可视化设计  三等奖  2022062479                              睦邻战疫，“疫”心为人   \n",
       "\n",
       "            参赛学校           作者     指导教师  \n",
       "0           南京大学  汪舒宽,章梦晨,申佳蕾   戴新宇,陈颖  \n",
       "1          石河子大学    杜蕾,李智轩,秦源   于宝华,陈凤  \n",
       "2         南京邮电大学  仲雨乐,陆豪杰,马诗雯       韩普  \n",
       "3           武汉学院    罗今灿,顾欣,郭迟  朱福喜,郑克松  \n",
       "4           郑州大学  肖志轩,李承毅,牛力贤      薛均晓  \n",
       "...          ...          ...      ...  \n",
       "4479      上海财经大学   张蓉,陆泽洁,薛惠文       刘桦  \n",
       "4480  上海师范大学天华学院   南平,郝嘉尉,谢思睿  时书剑,朱怀中  \n",
       "4481    上海对外经贸大学   莫茗柯,励诺,夏一凡  顾振宇,戴永辉  \n",
       "4482  西南财经大学天府学院   王良成,房彬彬,麦林  龚轩涛,陈昌平  \n",
       "4483  上海师范大学天华学院  孙佳冲,郑俊杰,张浩楠    崔岩,丁龙  \n",
       "\n",
       "[4484 rows x 7 columns]"
      ]
     },
     "execution_count": 7,
     "metadata": {},
     "output_type": "execute_result"
    }
   ],
   "source": [
    "import pdfplumber\n",
    "import pandas as pd\n",
    "\n",
    "# 打开PDF文件\n",
    "pdf_path = 'data/2022计算机设计大赛国奖.pdf'\n",
    "with pdfplumber.open(pdf_path) as pdf:\n",
    "    # 初始化一个空的DataFrame列表\n",
    "    dfs = []\n",
    "    \n",
    "    # 从第四页开始提取所有表格（注意：页码从0开始）\n",
    "    start_page = 4  \n",
    "    for page in pdf.pages[start_page:]:\n",
    "        # 提取表格\n",
    "        table = page.extract_table()\n",
    "        \n",
    "        # 如果表格存在，则将其转换为DataFrame并添加到列表中\n",
    "        if table:\n",
    "            df = pd.DataFrame(table[1:], columns=table[0])\n",
    "            dfs.append(df)\n",
    "    \n",
    "    # 将所有DataFrame合并为一个大的DataFrame\n",
    "    combined_df = pd.concat(dfs, ignore_index=True)\n",
    "    \n",
    "    # 保存为CSV文件\n",
    "    combined_df.to_csv('data/2022国奖名单.csv', index=False)\n",
    "    \n",
    "    # 打印合并后的DataFrame\n",
    "combined_df"
   ]
  },
  {
   "cell_type": "code",
   "execution_count": 8,
   "metadata": {},
   "outputs": [],
   "source": [
    "# 读取原始CSV文件内容\n",
    "with open('data/2022国奖名单.csv', 'r', encoding='utf-8') as f:\n",
    "    lines = f.readlines()\n",
    "\n",
    "# 存储处理后的行\n",
    "processed_lines = []\n",
    "header = lines[0].strip()  # 保存第一行作为表头\n",
    "i = 0\n",
    "\n",
    "while i < len(lines):\n",
    "    line = lines[i].strip()\n",
    "    \n",
    "    # 跳过与表头相同的行\n",
    "    if i > 0 and line == header:\n",
    "        i += 1\n",
    "        continue\n",
    "        \n",
    "    # 检查是否需要合并下一行\n",
    "    if line.count('\"') % 2 == 1 and i+1 < len(lines):\n",
    "        # 有未闭合的引号,需要与下一行合并\n",
    "        line = line + lines[i+1].strip()\n",
    "        i += 2\n",
    "    else:\n",
    "        i += 1\n",
    "        \n",
    "    processed_lines.append(line)\n",
    "\n",
    "# 写入新文件\n",
    "with open('data/2022国奖名单-清理后.csv', 'w', encoding='utf-8') as f:\n",
    "    f.write('\\n'.join(processed_lines))"
   ]
  },
  {
   "cell_type": "code",
   "execution_count": 19,
   "metadata": {},
   "outputs": [
    {
     "name": "stdout",
     "output_type": "stream",
     "text": [
      "奖项          一等奖  三等奖  二等奖\n",
      "大类名称                     \n",
      "人工智能应用       32  127  171\n",
      "大数据应用         0  116   67\n",
      "计算机音乐创作       6   47   29\n",
      "计算机音乐创作专业组    3   20   16\n"
     ]
    },
    {
     "data": {
      "application/vnd.plotly.v1+json": {
       "config": {
        "plotlyServerURL": "https://plot.ly"
       },
       "data": [
        {
         "alignmentgroup": "True",
         "hovertemplate": "variable=一等奖<br>大类名称=%{x}<br>value=%{y}<extra></extra>",
         "legendgroup": "一等奖",
         "marker": {
          "color": "#636efa",
          "pattern": {
           "shape": ""
          }
         },
         "name": "一等奖",
         "offsetgroup": "一等奖",
         "orientation": "v",
         "showlegend": true,
         "textposition": "auto",
         "type": "bar",
         "x": [
          "人工智能应用",
          "大数据应用",
          "计算机音乐创作",
          "计算机音乐创作专业组"
         ],
         "xaxis": "x",
         "y": [
          32,
          0,
          6,
          3
         ],
         "yaxis": "y"
        },
        {
         "alignmentgroup": "True",
         "hovertemplate": "variable=三等奖<br>大类名称=%{x}<br>value=%{y}<extra></extra>",
         "legendgroup": "三等奖",
         "marker": {
          "color": "#EF553B",
          "pattern": {
           "shape": ""
          }
         },
         "name": "三等奖",
         "offsetgroup": "三等奖",
         "orientation": "v",
         "showlegend": true,
         "textposition": "auto",
         "type": "bar",
         "x": [
          "人工智能应用",
          "大数据应用",
          "计算机音乐创作",
          "计算机音乐创作专业组"
         ],
         "xaxis": "x",
         "y": [
          127,
          116,
          47,
          20
         ],
         "yaxis": "y"
        },
        {
         "alignmentgroup": "True",
         "hovertemplate": "variable=二等奖<br>大类名称=%{x}<br>value=%{y}<extra></extra>",
         "legendgroup": "二等奖",
         "marker": {
          "color": "#00cc96",
          "pattern": {
           "shape": ""
          }
         },
         "name": "二等奖",
         "offsetgroup": "二等奖",
         "orientation": "v",
         "showlegend": true,
         "textposition": "auto",
         "type": "bar",
         "x": [
          "人工智能应用",
          "大数据应用",
          "计算机音乐创作",
          "计算机音乐创作专业组"
         ],
         "xaxis": "x",
         "y": [
          171,
          67,
          29,
          16
         ],
         "yaxis": "y"
        }
       ],
       "layout": {
        "barmode": "group",
        "legend": {
         "title": {
          "text": "variable"
         },
         "tracegroupgap": 0
        },
        "template": {
         "data": {
          "bar": [
           {
            "error_x": {
             "color": "#2a3f5f"
            },
            "error_y": {
             "color": "#2a3f5f"
            },
            "marker": {
             "line": {
              "color": "#E5ECF6",
              "width": 0.5
             },
             "pattern": {
              "fillmode": "overlay",
              "size": 10,
              "solidity": 0.2
             }
            },
            "type": "bar"
           }
          ],
          "barpolar": [
           {
            "marker": {
             "line": {
              "color": "#E5ECF6",
              "width": 0.5
             },
             "pattern": {
              "fillmode": "overlay",
              "size": 10,
              "solidity": 0.2
             }
            },
            "type": "barpolar"
           }
          ],
          "carpet": [
           {
            "aaxis": {
             "endlinecolor": "#2a3f5f",
             "gridcolor": "white",
             "linecolor": "white",
             "minorgridcolor": "white",
             "startlinecolor": "#2a3f5f"
            },
            "baxis": {
             "endlinecolor": "#2a3f5f",
             "gridcolor": "white",
             "linecolor": "white",
             "minorgridcolor": "white",
             "startlinecolor": "#2a3f5f"
            },
            "type": "carpet"
           }
          ],
          "choropleth": [
           {
            "colorbar": {
             "outlinewidth": 0,
             "ticks": ""
            },
            "type": "choropleth"
           }
          ],
          "contour": [
           {
            "colorbar": {
             "outlinewidth": 0,
             "ticks": ""
            },
            "colorscale": [
             [
              0,
              "#0d0887"
             ],
             [
              0.1111111111111111,
              "#46039f"
             ],
             [
              0.2222222222222222,
              "#7201a8"
             ],
             [
              0.3333333333333333,
              "#9c179e"
             ],
             [
              0.4444444444444444,
              "#bd3786"
             ],
             [
              0.5555555555555556,
              "#d8576b"
             ],
             [
              0.6666666666666666,
              "#ed7953"
             ],
             [
              0.7777777777777778,
              "#fb9f3a"
             ],
             [
              0.8888888888888888,
              "#fdca26"
             ],
             [
              1,
              "#f0f921"
             ]
            ],
            "type": "contour"
           }
          ],
          "contourcarpet": [
           {
            "colorbar": {
             "outlinewidth": 0,
             "ticks": ""
            },
            "type": "contourcarpet"
           }
          ],
          "heatmap": [
           {
            "colorbar": {
             "outlinewidth": 0,
             "ticks": ""
            },
            "colorscale": [
             [
              0,
              "#0d0887"
             ],
             [
              0.1111111111111111,
              "#46039f"
             ],
             [
              0.2222222222222222,
              "#7201a8"
             ],
             [
              0.3333333333333333,
              "#9c179e"
             ],
             [
              0.4444444444444444,
              "#bd3786"
             ],
             [
              0.5555555555555556,
              "#d8576b"
             ],
             [
              0.6666666666666666,
              "#ed7953"
             ],
             [
              0.7777777777777778,
              "#fb9f3a"
             ],
             [
              0.8888888888888888,
              "#fdca26"
             ],
             [
              1,
              "#f0f921"
             ]
            ],
            "type": "heatmap"
           }
          ],
          "heatmapgl": [
           {
            "colorbar": {
             "outlinewidth": 0,
             "ticks": ""
            },
            "colorscale": [
             [
              0,
              "#0d0887"
             ],
             [
              0.1111111111111111,
              "#46039f"
             ],
             [
              0.2222222222222222,
              "#7201a8"
             ],
             [
              0.3333333333333333,
              "#9c179e"
             ],
             [
              0.4444444444444444,
              "#bd3786"
             ],
             [
              0.5555555555555556,
              "#d8576b"
             ],
             [
              0.6666666666666666,
              "#ed7953"
             ],
             [
              0.7777777777777778,
              "#fb9f3a"
             ],
             [
              0.8888888888888888,
              "#fdca26"
             ],
             [
              1,
              "#f0f921"
             ]
            ],
            "type": "heatmapgl"
           }
          ],
          "histogram": [
           {
            "marker": {
             "pattern": {
              "fillmode": "overlay",
              "size": 10,
              "solidity": 0.2
             }
            },
            "type": "histogram"
           }
          ],
          "histogram2d": [
           {
            "colorbar": {
             "outlinewidth": 0,
             "ticks": ""
            },
            "colorscale": [
             [
              0,
              "#0d0887"
             ],
             [
              0.1111111111111111,
              "#46039f"
             ],
             [
              0.2222222222222222,
              "#7201a8"
             ],
             [
              0.3333333333333333,
              "#9c179e"
             ],
             [
              0.4444444444444444,
              "#bd3786"
             ],
             [
              0.5555555555555556,
              "#d8576b"
             ],
             [
              0.6666666666666666,
              "#ed7953"
             ],
             [
              0.7777777777777778,
              "#fb9f3a"
             ],
             [
              0.8888888888888888,
              "#fdca26"
             ],
             [
              1,
              "#f0f921"
             ]
            ],
            "type": "histogram2d"
           }
          ],
          "histogram2dcontour": [
           {
            "colorbar": {
             "outlinewidth": 0,
             "ticks": ""
            },
            "colorscale": [
             [
              0,
              "#0d0887"
             ],
             [
              0.1111111111111111,
              "#46039f"
             ],
             [
              0.2222222222222222,
              "#7201a8"
             ],
             [
              0.3333333333333333,
              "#9c179e"
             ],
             [
              0.4444444444444444,
              "#bd3786"
             ],
             [
              0.5555555555555556,
              "#d8576b"
             ],
             [
              0.6666666666666666,
              "#ed7953"
             ],
             [
              0.7777777777777778,
              "#fb9f3a"
             ],
             [
              0.8888888888888888,
              "#fdca26"
             ],
             [
              1,
              "#f0f921"
             ]
            ],
            "type": "histogram2dcontour"
           }
          ],
          "mesh3d": [
           {
            "colorbar": {
             "outlinewidth": 0,
             "ticks": ""
            },
            "type": "mesh3d"
           }
          ],
          "parcoords": [
           {
            "line": {
             "colorbar": {
              "outlinewidth": 0,
              "ticks": ""
             }
            },
            "type": "parcoords"
           }
          ],
          "pie": [
           {
            "automargin": true,
            "type": "pie"
           }
          ],
          "scatter": [
           {
            "fillpattern": {
             "fillmode": "overlay",
             "size": 10,
             "solidity": 0.2
            },
            "type": "scatter"
           }
          ],
          "scatter3d": [
           {
            "line": {
             "colorbar": {
              "outlinewidth": 0,
              "ticks": ""
             }
            },
            "marker": {
             "colorbar": {
              "outlinewidth": 0,
              "ticks": ""
             }
            },
            "type": "scatter3d"
           }
          ],
          "scattercarpet": [
           {
            "marker": {
             "colorbar": {
              "outlinewidth": 0,
              "ticks": ""
             }
            },
            "type": "scattercarpet"
           }
          ],
          "scattergeo": [
           {
            "marker": {
             "colorbar": {
              "outlinewidth": 0,
              "ticks": ""
             }
            },
            "type": "scattergeo"
           }
          ],
          "scattergl": [
           {
            "marker": {
             "colorbar": {
              "outlinewidth": 0,
              "ticks": ""
             }
            },
            "type": "scattergl"
           }
          ],
          "scattermapbox": [
           {
            "marker": {
             "colorbar": {
              "outlinewidth": 0,
              "ticks": ""
             }
            },
            "type": "scattermapbox"
           }
          ],
          "scatterpolar": [
           {
            "marker": {
             "colorbar": {
              "outlinewidth": 0,
              "ticks": ""
             }
            },
            "type": "scatterpolar"
           }
          ],
          "scatterpolargl": [
           {
            "marker": {
             "colorbar": {
              "outlinewidth": 0,
              "ticks": ""
             }
            },
            "type": "scatterpolargl"
           }
          ],
          "scatterternary": [
           {
            "marker": {
             "colorbar": {
              "outlinewidth": 0,
              "ticks": ""
             }
            },
            "type": "scatterternary"
           }
          ],
          "surface": [
           {
            "colorbar": {
             "outlinewidth": 0,
             "ticks": ""
            },
            "colorscale": [
             [
              0,
              "#0d0887"
             ],
             [
              0.1111111111111111,
              "#46039f"
             ],
             [
              0.2222222222222222,
              "#7201a8"
             ],
             [
              0.3333333333333333,
              "#9c179e"
             ],
             [
              0.4444444444444444,
              "#bd3786"
             ],
             [
              0.5555555555555556,
              "#d8576b"
             ],
             [
              0.6666666666666666,
              "#ed7953"
             ],
             [
              0.7777777777777778,
              "#fb9f3a"
             ],
             [
              0.8888888888888888,
              "#fdca26"
             ],
             [
              1,
              "#f0f921"
             ]
            ],
            "type": "surface"
           }
          ],
          "table": [
           {
            "cells": {
             "fill": {
              "color": "#EBF0F8"
             },
             "line": {
              "color": "white"
             }
            },
            "header": {
             "fill": {
              "color": "#C8D4E3"
             },
             "line": {
              "color": "white"
             }
            },
            "type": "table"
           }
          ]
         },
         "layout": {
          "annotationdefaults": {
           "arrowcolor": "#2a3f5f",
           "arrowhead": 0,
           "arrowwidth": 1
          },
          "autotypenumbers": "strict",
          "coloraxis": {
           "colorbar": {
            "outlinewidth": 0,
            "ticks": ""
           }
          },
          "colorscale": {
           "diverging": [
            [
             0,
             "#8e0152"
            ],
            [
             0.1,
             "#c51b7d"
            ],
            [
             0.2,
             "#de77ae"
            ],
            [
             0.3,
             "#f1b6da"
            ],
            [
             0.4,
             "#fde0ef"
            ],
            [
             0.5,
             "#f7f7f7"
            ],
            [
             0.6,
             "#e6f5d0"
            ],
            [
             0.7,
             "#b8e186"
            ],
            [
             0.8,
             "#7fbc41"
            ],
            [
             0.9,
             "#4d9221"
            ],
            [
             1,
             "#276419"
            ]
           ],
           "sequential": [
            [
             0,
             "#0d0887"
            ],
            [
             0.1111111111111111,
             "#46039f"
            ],
            [
             0.2222222222222222,
             "#7201a8"
            ],
            [
             0.3333333333333333,
             "#9c179e"
            ],
            [
             0.4444444444444444,
             "#bd3786"
            ],
            [
             0.5555555555555556,
             "#d8576b"
            ],
            [
             0.6666666666666666,
             "#ed7953"
            ],
            [
             0.7777777777777778,
             "#fb9f3a"
            ],
            [
             0.8888888888888888,
             "#fdca26"
            ],
            [
             1,
             "#f0f921"
            ]
           ],
           "sequentialminus": [
            [
             0,
             "#0d0887"
            ],
            [
             0.1111111111111111,
             "#46039f"
            ],
            [
             0.2222222222222222,
             "#7201a8"
            ],
            [
             0.3333333333333333,
             "#9c179e"
            ],
            [
             0.4444444444444444,
             "#bd3786"
            ],
            [
             0.5555555555555556,
             "#d8576b"
            ],
            [
             0.6666666666666666,
             "#ed7953"
            ],
            [
             0.7777777777777778,
             "#fb9f3a"
            ],
            [
             0.8888888888888888,
             "#fdca26"
            ],
            [
             1,
             "#f0f921"
            ]
           ]
          },
          "colorway": [
           "#636efa",
           "#EF553B",
           "#00cc96",
           "#ab63fa",
           "#FFA15A",
           "#19d3f3",
           "#FF6692",
           "#B6E880",
           "#FF97FF",
           "#FECB52"
          ],
          "font": {
           "color": "#2a3f5f"
          },
          "geo": {
           "bgcolor": "white",
           "lakecolor": "white",
           "landcolor": "#E5ECF6",
           "showlakes": true,
           "showland": true,
           "subunitcolor": "white"
          },
          "hoverlabel": {
           "align": "left"
          },
          "hovermode": "closest",
          "mapbox": {
           "style": "light"
          },
          "paper_bgcolor": "white",
          "plot_bgcolor": "#E5ECF6",
          "polar": {
           "angularaxis": {
            "gridcolor": "white",
            "linecolor": "white",
            "ticks": ""
           },
           "bgcolor": "#E5ECF6",
           "radialaxis": {
            "gridcolor": "white",
            "linecolor": "white",
            "ticks": ""
           }
          },
          "scene": {
           "xaxis": {
            "backgroundcolor": "#E5ECF6",
            "gridcolor": "white",
            "gridwidth": 2,
            "linecolor": "white",
            "showbackground": true,
            "ticks": "",
            "zerolinecolor": "white"
           },
           "yaxis": {
            "backgroundcolor": "#E5ECF6",
            "gridcolor": "white",
            "gridwidth": 2,
            "linecolor": "white",
            "showbackground": true,
            "ticks": "",
            "zerolinecolor": "white"
           },
           "zaxis": {
            "backgroundcolor": "#E5ECF6",
            "gridcolor": "white",
            "gridwidth": 2,
            "linecolor": "white",
            "showbackground": true,
            "ticks": "",
            "zerolinecolor": "white"
           }
          },
          "shapedefaults": {
           "line": {
            "color": "#2a3f5f"
           }
          },
          "ternary": {
           "aaxis": {
            "gridcolor": "white",
            "linecolor": "white",
            "ticks": ""
           },
           "baxis": {
            "gridcolor": "white",
            "linecolor": "white",
            "ticks": ""
           },
           "bgcolor": "#E5ECF6",
           "caxis": {
            "gridcolor": "white",
            "linecolor": "white",
            "ticks": ""
           }
          },
          "title": {
           "x": 0.05
          },
          "xaxis": {
           "automargin": true,
           "gridcolor": "white",
           "linecolor": "white",
           "ticks": "",
           "title": {
            "standoff": 15
           },
           "zerolinecolor": "white",
           "zerolinewidth": 2
          },
          "yaxis": {
           "automargin": true,
           "gridcolor": "white",
           "linecolor": "white",
           "ticks": "",
           "title": {
            "standoff": 15
           },
           "zerolinecolor": "white",
           "zerolinewidth": 2
          }
         }
        },
        "title": {
         "text": "大类名称各类别的计数统计"
        },
        "xaxis": {
         "anchor": "y",
         "domain": [
          0,
          1
         ],
         "title": {
          "text": "大类名称"
         }
        },
        "yaxis": {
         "anchor": "x",
         "domain": [
          0,
          1
         ],
         "title": {
          "text": "数量"
         }
        }
       }
      }
     },
     "metadata": {},
     "output_type": "display_data"
    }
   ],
   "source": [
    "import pandas as pd\n",
    "import plotly.express as px\n",
    "\n",
    "# 读取 CSV 文件\n",
    "file_path = 'data/2022国奖名单-清理后.csv'\n",
    "df = pd.read_csv(file_path)\n",
    "\n",
    "# 统计每个大类名称的各类别的数量\n",
    "category_counts = df.groupby(['大类名称', '奖项']).size().unstack(fill_value=0)\n",
    "\n",
    "# 打印统计表格\n",
    "print(category_counts)\n",
    "\n",
    "# 使用 plotly 绘制柱状图\n",
    "fig = px.bar(category_counts.reset_index(), x='大类名称', y=category_counts.columns, title='大类名称各类别的计数统计')\n",
    "fig.update_layout(barmode='group', xaxis_title='大类名称', yaxis_title='数量')\n",
    "fig.show()"
   ]
  },
  {
   "cell_type": "code",
   "execution_count": 20,
   "metadata": {},
   "outputs": [],
   "source": [
    "import mytools"
   ]
  },
  {
   "cell_type": "code",
   "execution_count": 31,
   "metadata": {},
   "outputs": [
    {
     "data": {
      "text/plain": [
       "'985'"
      ]
     },
     "execution_count": 31,
     "metadata": {},
     "output_type": "execute_result"
    }
   ],
   "source": [
    "大学名称 = '南京大学'\n",
    "提示词 = f'''\n",
    "请扮演中国大学教育专家，为我提供如下信息：\n",
    "\n",
    "{大学名称}是哪一类学校（985、211、双非、民办）：\n",
    "\n",
    "请根据这个学校的实际情况，返回类别，不要给出任何多余的信息，我要用你的返回值进行数据分类。\n",
    "如果一个学校是985，也是211，请返回985\n",
    "'''\n",
    "\n",
    "mytools.dsllm(提示词)"
   ]
  },
  {
   "cell_type": "code",
   "execution_count": null,
   "metadata": {},
   "outputs": [],
   "source": []
  },
  {
   "cell_type": "code",
   "execution_count": null,
   "metadata": {},
   "outputs": [],
   "source": []
  }
 ],
 "metadata": {
  "kernelspec": {
   "display_name": "Python 3",
   "language": "python",
   "name": "python3"
  },
  "language_info": {
   "codemirror_mode": {
    "name": "ipython",
    "version": 3
   },
   "file_extension": ".py",
   "mimetype": "text/x-python",
   "name": "python",
   "nbconvert_exporter": "python",
   "pygments_lexer": "ipython3",
   "version": "3.8.10"
  }
 },
 "nbformat": 4,
 "nbformat_minor": 2
}
