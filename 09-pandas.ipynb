{
 "cells": [
  {
   "cell_type": "code",
   "execution_count": 1,
   "metadata": {},
   "outputs": [],
   "source": [
    "import mytools"
   ]
  },
  {
   "cell_type": "code",
   "execution_count": 2,
   "metadata": {},
   "outputs": [
    {
     "data": {
      "text/markdown": [
       "作为一名经验丰富的Python教学专家，针对你的学习目的——使用pandas进行人工智能相关内容的学习，以下是精炼的必要学习内容：\n",
       "\n",
       "### 1. **基础数据结构**\n",
       "   - **Series**: 一维标记数组，理解其创建、索引和基本操作。\n",
       "   - **DataFrame**: 二维表格数据结构，掌握其创建、索引、列操作和基本操作。\n",
       "\n",
       "### 2. **数据导入与导出**\n",
       "   - **读取数据**: `pd.read_csv()`, `pd.read_excel()`, `pd.read_sql()` 等，学会从不同格式文件中读取数据。\n",
       "   - **保存数据**: `df.to_csv()`, `df.to_excel()`, `df.to_sql()` 等，学会将数据保存到不同格式文件中。\n",
       "\n",
       "### 3. **数据清洗**\n",
       "   - **处理缺失值**: `df.dropna()`, `df.fillna()`，学会处理数据中的缺失值。\n",
       "   - **数据转换**: `df.apply()`, `df.map()`, `df.replace()`，学会对数据进行转换和替换。\n",
       "   - **数据过滤**: `df.query()`, `df.loc[]`, `df.iloc[]`，学会根据条件过滤数据。\n",
       "\n",
       "### 4. **数据操作**\n",
       "   - **索引与切片**: `df.loc[]`, `df.iloc[]`，学会使用标签和位置进行数据选择。\n",
       "   - **数据合并**: `pd.concat()`, `pd.merge()`, `df.join()`，学会合并多个数据集。\n",
       "   - **分组与聚合**: `df.groupby()`, `df.agg()`，学会对数据进行分组并进行聚合操作。\n",
       "\n",
       "### 5. **数据分析**\n",
       "   - **描述性统计**: `df.describe()`, `df.mean()`, `df.sum()` 等，学会计算数据的统计量。\n",
       "   - **数据透视表**: `pd.pivot_table()`，学会创建数据透视表以进行更深入的分析。\n",
       "\n",
       "### 6. **时间序列处理**\n",
       "   - **日期解析**: `pd.to_datetime()`，学会将字符串转换为日期格式。\n",
       "   - **时间序列操作**: `df.resample()`, `df.shift()`，学会处理时间序列数据。\n",
       "\n",
       "### 7. **可视化**\n",
       "   - **基础绘图**: `df.plot()`, `df.hist()`，学会使用pandas内置的绘图功能进行数据可视化。\n",
       "\n",
       "### 8. **高级功能**\n",
       "   - **多索引**: `pd.MultiIndex`，学会处理多层索引的数据结构。\n",
       "   - **性能优化**: `df.eval()`, `df.query()`，学会使用高效的方法进行数据操作。\n",
       "\n",
       "### 9. **实战练习**\n",
       "   - **项目实践**: 通过实际项目练习，如数据清洗、分析、可视化等，巩固所学知识。\n",
       "\n",
       "### 10. **与AI结合**\n",
       "   - **数据预处理**: 学会如何使用pandas进行数据预处理，为机器学习模型准备数据。\n",
       "   - **特征工程**: 学会如何使用pandas进行特征选择、特征转换等操作。\n",
       "\n",
       "通过掌握以上内容，你将能够熟练使用pandas进行数据处理和分析，为后续的人工智能学习打下坚实的基础。"
      ],
      "text/plain": [
       "<IPython.core.display.Markdown object>"
      ]
     },
     "execution_count": 2,
     "metadata": {},
     "output_type": "execute_result"
    }
   ],
   "source": [
    "提示词 = \"\"\"\n",
    "## 角色\n",
    "\n",
    "请扮演经验丰富的Python教学专家，列出pandas包的必要学习内容。\n",
    "\n",
    "## 背景\n",
    "\n",
    "我是一个初学者，我的学习目的是使用pandas进行后续的人工智能相关内容的学习。\n",
    "\n",
    "## 要求\n",
    "\n",
    "1. 教学内容要精炼。\n",
    "\"\"\"\n",
    "mytools.render(mytools.dsllm(提示词))"
   ]
  },
  {
   "cell_type": "code",
   "execution_count": 3,
   "metadata": {},
   "outputs": [
    {
     "data": {
      "text/markdown": [
       "### 教学内容：基础数据结构\n",
       "\n",
       "#### 1. Series（一维标记数组）\n",
       "\n",
       "**目标**：理解Series的创建、索引和基本操作。\n",
       "\n",
       "**内容**：\n",
       "\n",
       "1. **创建Series**：\n",
       "   - 使用列表创建：`pd.Series([1, 3, 5, 7, 9])`\n",
       "   - 使用字典创建：`pd.Series({'a': 1, 'b': 2, 'c': 3})`\n",
       "   - 指定索引：`pd.Series([1, 3, 5], index=['a', 'b', 'c'])`\n",
       "\n",
       "2. **索引和切片**：\n",
       "   - 位置索引：`series[0]`\n",
       "   - 标签索引：`series['a']`\n",
       "   - 切片：`series[1:3]` 或 `series['b':'c']`\n",
       "\n",
       "3. **基本操作**：\n",
       "   - 查看数据：`series.head()`\n",
       "   - 查看索引：`series.index`\n",
       "   - 查看值：`series.values`\n",
       "   - 修改值：`series['a'] = 10`\n",
       "\n",
       "**示例代码**：\n",
       "```python\n",
       "import pandas as pd\n",
       "\n",
       "# 创建Series\n",
       "s = pd.Series([1, 3, 5, 7, 9])\n",
       "print(s)\n",
       "\n",
       "# 使用字典创建Series\n",
       "s_dict = pd.Series({'a': 1, 'b': 2, 'c': 3})\n",
       "print(s_dict)\n",
       "\n",
       "# 指定索引\n",
       "s_indexed = pd.Series([1, 3, 5], index=['a', 'b', 'c'])\n",
       "print(s_indexed)\n",
       "\n",
       "# 索引和切片\n",
       "print(s[0])  # 位置索引\n",
       "print(s_dict['a'])  # 标签索引\n",
       "print(s[1:3])  # 切片\n",
       "\n",
       "# 基本操作\n",
       "print(s.head())  # 查看前几行\n",
       "print(s.index)  # 查看索引\n",
       "print(s.values)  # 查看值\n",
       "s['a'] = 10  # 修改值\n",
       "print(s)\n",
       "```\n",
       "\n",
       "#### 2. DataFrame（二维表格数据结构）\n",
       "\n",
       "**目标**：掌握DataFrame的创建、索引、列操作和基本操作。\n",
       "\n",
       "**内容**：\n",
       "\n",
       "1. **创建DataFrame**：\n",
       "   - 使用字典创建：`pd.DataFrame({'A': [1, 2, 3], 'B': [4, 5, 6]})`\n",
       "   - 使用列表创建：`pd.DataFrame([[1, 4], [2, 5], [3, 6]], columns=['A', 'B'])`\n",
       "   - 从文件读取：`pd.read_csv('file.csv')`\n",
       "\n",
       "2. **索引和切片**：\n",
       "   - 列索引：`df['A']`\n",
       "   - 行索引：`df.loc[0]` 或 `df.iloc[0]`\n",
       "   - 切片：`df[1:3]` 或 `df.loc[1:3, 'A':'B']`\n",
       "\n",
       "3. **列操作**：\n",
       "   - 添加列：`df['C'] = [7, 8, 9]`\n",
       "   - 删除列：`df.drop('C', axis=1)`\n",
       "   - 修改列：`df['A'] = df['A'] * 2`\n",
       "\n",
       "4. **基本操作**：\n",
       "   - 查看数据：`df.head()`\n",
       "   - 查看列名：`df.columns`\n",
       "   - 查看行索引：`df.index`\n",
       "   - 查看形状：`df.shape`\n",
       "\n",
       "**示例代码**：\n",
       "```python\n",
       "import pandas as pd\n",
       "\n",
       "# 创建DataFrame\n",
       "df = pd.DataFrame({'A': [1, 2, 3], 'B': [4, 5, 6]})\n",
       "print(df)\n",
       "\n",
       "# 使用列表创建DataFrame\n",
       "df_list = pd.DataFrame([[1, 4], [2, 5], [3, 6]], columns=['A', 'B'])\n",
       "print(df_list)\n",
       "\n",
       "# 从文件读取\n",
       "# df_csv = pd.read_csv('file.csv')\n",
       "# print(df_csv)\n",
       "\n",
       "# 索引和切片\n",
       "print(df['A'])  # 列索引\n",
       "print(df.loc[0])  # 行索引\n",
       "print(df[1:3])  # 切片\n",
       "\n",
       "# 列操作\n",
       "df['C'] = [7, 8, 9]  # 添加列\n",
       "print(df)\n",
       "df = df.drop('C', axis=1)  # 删除列\n",
       "print(df)\n",
       "df['A'] = df['A'] * 2  # 修改列\n",
       "print(df)\n",
       "\n",
       "# 基本操作\n",
       "print(df.head())  # 查看前几行\n",
       "print(df.columns)  # 查看列名\n",
       "print(df.index)  # 查看行索引\n",
       "print(df.shape)  # 查看形状\n",
       "```\n",
       "\n",
       "### 总结\n",
       "\n",
       "通过以上内容的学习，你应该能够掌握Pandas中Series和DataFrame的基本操作，为后续的人工智能相关内容打下坚实的基础。"
      ],
      "text/plain": [
       "<IPython.core.display.Markdown object>"
      ]
     },
     "execution_count": 3,
     "metadata": {},
     "output_type": "execute_result"
    }
   ],
   "source": [
    "教学大纲 = \"\"\"\n",
    "1. 基础数据结构\n",
    "Series: 一维标记数组，理解其创建、索引和基本操作。\n",
    "DataFrame: 二维表格数据结构，掌握其创建、索引、列操作和基本操作。\n",
    "\"\"\"\n",
    "提示词 = f\"\"\"\n",
    "## 角色\n",
    "\n",
    "请扮演经验丰富的Python教学专家，就我提供的教学大纲生成教学内容。\n",
    "\n",
    "## 背景\n",
    "\n",
    "我是一个初学者，我的学习目的是使用pandas进行后续的人工智能相关内容的学习。\n",
    "\n",
    "## 教学大纲\n",
    "\n",
    "{教学大纲}\n",
    "\n",
    "## 要求\n",
    "\n",
    "1. 教学内容要精炼。\n",
    "\"\"\"\n",
    "\n",
    "mytools.render(mytools.dsllm(提示词))"
   ]
  },
  {
   "cell_type": "code",
   "execution_count": 9,
   "metadata": {},
   "outputs": [],
   "source": [
    "# 创建Series：\n",
    "\n",
    "# 使用列表创建：pd.Series([1, 3, 5, 7, 9])\n",
    "# 使用字典创建：pd.Series({'a': 1, 'b': 2, 'c': 3})\n",
    "# 指定索引：pd.Series([1, 3, 5], index=['a', 'b', 'c'])\n",
    "\n",
    "import pandas as pd\n",
    "\n",
    "s1 = pd.Series([21,22,35,45])\n",
    "news23 = {\n",
    "    'Pxxxxx0' : '小明',\n",
    "    'Pxxxxx1' : '小李',\n",
    "    'Pxxxxx2' : '小张',\n",
    "    'Pxxxxx3' : '小黄',\n",
    "    'Pxxxxx4' : '小黑',\n",
    "    'Pxxxxx45' : '小花'\n",
    "}\n",
    "s2 = pd.Series(news23)"
   ]
  },
  {
   "cell_type": "code",
   "execution_count": 10,
   "metadata": {},
   "outputs": [
    {
     "name": "stdout",
     "output_type": "stream",
     "text": [
      "小明\n",
      "小李\n"
     ]
    }
   ],
   "source": [
    "# 索引和切片：\n",
    "\n",
    "# 位置索引：series[0]\n",
    "# 标签索引：series['a']\n",
    "# 切片：series[1:3] 或 series['b':'c']\n",
    "\n",
    "print(s2[0])\n",
    "print(s2['Pxxxxx1'])"
   ]
  },
  {
   "cell_type": "code",
   "execution_count": 11,
   "metadata": {},
   "outputs": [
    {
     "data": {
      "text/plain": [
       "Pxxxxx2     小张\n",
       "Pxxxxx3     小黄\n",
       "Pxxxxx4     小黑\n",
       "Pxxxxx45    小花\n",
       "dtype: object"
      ]
     },
     "execution_count": 11,
     "metadata": {},
     "output_type": "execute_result"
    }
   ],
   "source": [
    "s2['Pxxxxx2':'Pxxxxx45']"
   ]
  },
  {
   "cell_type": "code",
   "execution_count": 15,
   "metadata": {},
   "outputs": [
    {
     "data": {
      "text/plain": [
       "Pxxxxx0    小明\n",
       "Pxxxxx1    小李\n",
       "Pxxxxx2    小张\n",
       "dtype: object"
      ]
     },
     "execution_count": 15,
     "metadata": {},
     "output_type": "execute_result"
    }
   ],
   "source": [
    "# 基本操作：\n",
    "\n",
    "# 查看数据：series.head()\n",
    "# 查看索引：series.index\n",
    "# 查看值：series.values\n",
    "# 修改值：series['a'] = 10\n",
    "s2.head(3)"
   ]
  },
  {
   "cell_type": "code",
   "execution_count": 18,
   "metadata": {},
   "outputs": [
    {
     "data": {
      "text/plain": [
       "Index(['Pxxxxx0', 'Pxxxxx1', 'Pxxxxx2', 'Pxxxxx3', 'Pxxxxx4', 'Pxxxxx45'], dtype='object')"
      ]
     },
     "execution_count": 18,
     "metadata": {},
     "output_type": "execute_result"
    }
   ],
   "source": [
    "s2.index"
   ]
  },
  {
   "cell_type": "code",
   "execution_count": 19,
   "metadata": {},
   "outputs": [
    {
     "data": {
      "text/plain": [
       "array(['小明', '小李', '小张', '小黄', '小黑', '小花'], dtype=object)"
      ]
     },
     "execution_count": 19,
     "metadata": {},
     "output_type": "execute_result"
    }
   ],
   "source": [
    "s2.values"
   ]
  },
  {
   "cell_type": "code",
   "execution_count": 21,
   "metadata": {},
   "outputs": [
    {
     "data": {
      "text/plain": [
       "'小丽'"
      ]
     },
     "execution_count": 21,
     "metadata": {},
     "output_type": "execute_result"
    }
   ],
   "source": [
    "s2['Pxxxxx1'] = '小丽'\n",
    "s2['Pxxxxx1']"
   ]
  },
  {
   "cell_type": "code",
   "execution_count": 25,
   "metadata": {},
   "outputs": [],
   "source": [
    "# 创建DataFrame：\n",
    "\n",
    "# 使用字典创建：pd.DataFrame({'A': [1, 2, 3], 'B': [4, 5, 6]})\n",
    "# 使用列表创建：pd.DataFrame([[1, 4], [2, 5], [3, 6]], columns=['A', 'B'])\n",
    "\n",
    "df1 = pd.DataFrame({'学号': [1, 2, 3], '姓名': ['小明','小丽','小花'], '总评': [100, 90, 89]})"
   ]
  },
  {
   "cell_type": "code",
   "execution_count": null,
   "metadata": {},
   "outputs": [],
   "source": [
    "# 索引和切片：\n",
    "\n",
    "# 列索引：df['A']\n",
    "# 行索引：df.loc[0] 或 df.iloc[0]\n",
    "# 切片：df[1:3] 或 df.loc[1:3, 'A':'B']"
   ]
  },
  {
   "cell_type": "code",
   "execution_count": 26,
   "metadata": {},
   "outputs": [
    {
     "data": {
      "text/plain": [
       "0    100\n",
       "1     90\n",
       "2     89\n",
       "Name: 总评, dtype: int64"
      ]
     },
     "execution_count": 26,
     "metadata": {},
     "output_type": "execute_result"
    }
   ],
   "source": [
    "df1['总评']"
   ]
  },
  {
   "cell_type": "code",
   "execution_count": 29,
   "metadata": {},
   "outputs": [
    {
     "data": {
      "text/plain": [
       "'小明'"
      ]
     },
     "execution_count": 29,
     "metadata": {},
     "output_type": "execute_result"
    }
   ],
   "source": [
    "df1.loc[0]"
   ]
  },
  {
   "cell_type": "code",
   "execution_count": 30,
   "metadata": {},
   "outputs": [
    {
     "data": {
      "text/plain": [
       "100"
      ]
     },
     "execution_count": 30,
     "metadata": {},
     "output_type": "execute_result"
    }
   ],
   "source": [
    "df1.loc[0,'总评']"
   ]
  },
  {
   "cell_type": "code",
   "execution_count": 34,
   "metadata": {},
   "outputs": [],
   "source": [
    "# 列操作：\n",
    "\n",
    "# 添加列：df['C'] = [7, 8, 9]\n",
    "# 修改列：df['A'] = df['A'] * 2\n",
    "df1['期中'] = [80,89,90]\n",
    "df1['平时'] = [78,78,78]\n",
    "df1['总评'] = df1['期中']*0.5 +df1['平时']*0.5"
   ]
  }
 ],
 "metadata": {
  "kernelspec": {
   "display_name": "Python 3",
   "language": "python",
   "name": "python3"
  },
  "language_info": {
   "codemirror_mode": {
    "name": "ipython",
    "version": 3
   },
   "file_extension": ".py",
   "mimetype": "text/x-python",
   "name": "python",
   "nbconvert_exporter": "python",
   "pygments_lexer": "ipython3",
   "version": "3.8.10"
  }
 },
 "nbformat": 4,
 "nbformat_minor": 2
}
