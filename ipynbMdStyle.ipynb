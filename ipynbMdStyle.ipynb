{
 "cells": [
  {
   "cell_type": "code",
   "execution_count": 3,
   "metadata": {},
   "outputs": [
    {
     "data": {
      "text/markdown": [
       "\n",
       "<link rel=\"stylesheet\" href=\"githubTheme.css\">\n",
       "\n",
       "# 这是一个标题\n",
       "\n",
       "这是一个段落。\n",
       "\n",
       "- 这是一个列表项\n",
       "- 这是另一个列表项\n",
       "\n",
       "**这是加粗的文本**\n",
       "\n",
       "[这是一个链接](https://www.example.com)\n"
      ],
      "text/plain": [
       "<IPython.core.display.Markdown object>"
      ]
     },
     "execution_count": 3,
     "metadata": {},
     "output_type": "execute_result"
    }
   ],
   "source": [
    "from IPython.display import Markdown\n",
    "\n",
    "def generate_markdown():\n",
    "    markdown_text = \"\"\"\n",
    "<link rel=\"stylesheet\" href=\"githubTheme.css\">\n",
    "\n",
    "# 这是一个标题\n",
    "\n",
    "这是一个段落。\n",
    "\n",
    "- 这是一个列表项\n",
    "- 这是另一个列表项\n",
    "\n",
    "**这是加粗的文本**\n",
    "\n",
    "[这是一个链接](https://www.example.com)\n",
    "\"\"\"\n",
    "    return markdown_text\n",
    "\n",
    "markdown_content = generate_markdown()\n",
    "Markdown(markdown_content)"
   ]
  },
  {
   "cell_type": "code",
   "execution_count": 4,
   "metadata": {},
   "outputs": [],
   "source": [
    "def render(content: str, cssFile: str = \"githubTheme.css\") -> None:\n",
    "    \"\"\"\n",
    "    将传入的内容渲染为Markdown格式，并应用指定的CSS文件。\n",
    "\n",
    "    参数:\n",
    "    content (str): 要渲染的Markdown内容\n",
    "    cssFile (str, optional): 要应用的CSS文件路径，默认为\"githubTheme.css\"\n",
    "\n",
    "    返回值:\n",
    "    None: 该函数不返回任何值，仅用于渲染Markdown内容\n",
    "    \"\"\"\n",
    "    \n",
    "\n",
    "    markdown_text = f\"\"\"\n",
    "    <link rel=\"stylesheet\" href={cssFile}>\n",
    "\n",
    "    {content}\n",
    "    \"\"\"\n",
    "\n",
    "    return (markdown_text)"
   ]
  },
  {
   "cell_type": "code",
   "execution_count": 6,
   "metadata": {},
   "outputs": [
    {
     "data": {
      "text/markdown": [
       "\n",
       "<link rel=\"stylesheet\" href=\"githubTheme.css\">\n",
       "\n",
       "# 这是一个标题\n",
       "\n",
       "这是一个段落。\n",
       "\n",
       "- 这是一个列表项\n",
       "- 这是另一个列表项\n",
       "\n",
       "**这是加粗的文本**\n",
       "\n",
       "[这是一个链接](https://www.example.com)\n"
      ],
      "text/plain": [
       "<IPython.core.display.Markdown object>"
      ]
     },
     "execution_count": 6,
     "metadata": {},
     "output_type": "execute_result"
    }
   ],
   "source": [
    "Markdown(markdown_content)"
   ]
  },
  {
   "cell_type": "code",
   "execution_count": null,
   "metadata": {},
   "outputs": [],
   "source": []
  }
 ],
 "metadata": {
  "kernelspec": {
   "display_name": "Python 3",
   "language": "python",
   "name": "python3"
  },
  "language_info": {
   "codemirror_mode": {
    "name": "ipython",
    "version": 3
   },
   "file_extension": ".py",
   "mimetype": "text/x-python",
   "name": "python",
   "nbconvert_exporter": "python",
   "pygments_lexer": "ipython3",
   "version": "3.8.10"
  }
 },
 "nbformat": 4,
 "nbformat_minor": 2
}
