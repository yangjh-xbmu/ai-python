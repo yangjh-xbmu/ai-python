{
 "cells": [
  {
   "cell_type": "code",
   "execution_count": 1,
   "metadata": {},
   "outputs": [
    {
     "data": {
      "text/markdown": [
       "\n",
       "# 这是一个标题\n",
       "\n",
       "这是一个段落。\n",
       "\n",
       "- 这是一个列表项\n",
       "- 这是另一个列表项\n",
       "\n",
       "**这是加粗的文本**\n",
       "\n",
       "[这是一个链接](https://www.example.com)\n"
      ],
      "text/plain": [
       "<IPython.core.display.Markdown object>"
      ]
     },
     "execution_count": 1,
     "metadata": {},
     "output_type": "execute_result"
    }
   ],
   "source": [
    "from IPython.display import Markdown\n",
    "\n",
    "def generate_markdown():\n",
    "    markdown_text = \"\"\"\n",
    "# 这是一个标题\n",
    "\n",
    "这是一个段落。\n",
    "\n",
    "- 这是一个列表项\n",
    "- 这是另一个列表项\n",
    "\n",
    "**这是加粗的文本**\n",
    "\n",
    "[这是一个链接](https://www.example.com)\n",
    "\"\"\"\n",
    "    return markdown_text\n",
    "\n",
    "markdown_content = generate_markdown()\n",
    "Markdown(markdown_content)"
   ]
  }
 ],
 "metadata": {
  "kernelspec": {
   "display_name": "Python 3",
   "language": "python",
   "name": "python3"
  },
  "language_info": {
   "codemirror_mode": {
    "name": "ipython",
    "version": 3
   },
   "file_extension": ".py",
   "mimetype": "text/x-python",
   "name": "python",
   "nbconvert_exporter": "python",
   "pygments_lexer": "ipython3",
   "version": "3.8.10"
  }
 },
 "nbformat": 4,
 "nbformat_minor": 2
}
