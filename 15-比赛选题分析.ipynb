{
 "cells": [
  {
   "cell_type": "code",
   "execution_count": 2,
   "metadata": {},
   "outputs": [],
   "source": [
    "import pandas as pd\n",
    "\n",
    "def query_data(file_name, category_name, award):\n",
    "    # 读取文件\n",
    "    df = pd.read_csv(file_name)\n",
    "    \n",
    "    # 使用query方法查询数据\n",
    "    result = df.query(f'大类名称 == \"{category_name}\" and 奖项 == \"{award}\"')\n",
    "    \n",
    "    # 如果查询结果为空，则返回None\n",
    "    if result.empty:\n",
    "        return None\n",
    "    \n",
    "    # 返回查询结果\n",
    "    return result\n",
    "\n"
   ]
  },
  {
   "cell_type": "code",
   "execution_count": 3,
   "metadata": {},
   "outputs": [
    {
     "name": "stdout",
     "output_type": "stream",
     "text": [
      "   Unnamed: 0   大类名称   奖项        作品编号                        作品名称    参赛学校  \\\n",
      "0           0  大数据应用  二等奖  2022006286  基于公共匿名平台数据的高校大学生心理健康问题识别系统    南京大学   \n",
      "1           1  大数据应用  二等奖  2022009288            基于SOA农业大数据管理服务平台   石河子大学   \n",
      "2           2  大数据应用  二等奖  2022009615        基于对抗性迁移学习的药品不良反应监测研究  南京邮电大学   \n",
      "\n",
      "            作者    指导教师 学校类别  \n",
      "0  汪舒宽,章梦晨,申佳蕾  戴新宇,陈颖  985  \n",
      "1    杜蕾,李智轩,秦源  于宝华,陈凤  双一流  \n",
      "2  仲雨乐,陆豪杰,马诗雯      韩普  双一流  \n"
     ]
    }
   ],
   "source": [
    "# 示例调用\n",
    "file_name = R'data\\2022计算机设计大赛国奖清理后-增加变量.csv'\n",
    "category_name = '大数据应用'\n",
    "award = '二等奖'\n",
    "result = query_data(file_name, category_name, award)\n",
    "\n",
    "if result is not None:\n",
    "    print(result.head(3))\n",
    "else:\n",
    "    print(\"查询结果为空\")"
   ]
  },
  {
   "cell_type": "code",
   "execution_count": 4,
   "metadata": {},
   "outputs": [
    {
     "name": "stdout",
     "output_type": "stream",
     "text": [
      "基于公共匿名平台数据的高校大学生心理健康问题识别系统\n",
      "基于SOA农业大数据管理服务平台\n",
      "基于对抗性迁移学习的药品不良反应监测研究\n",
      "大数据技术在新冠病毒基因组序列分析中的应用\n",
      "数据解读新冠疫情与全球应对--基于因果机器学习的新冠疫情与全球经济无偏分析\n",
      "“动态清零”视角下的疫情防控决策支撑预测模型\n",
      "面向社交大数据的舆情分析系统\n",
      "基于大数据技术的社区疫情防控平台\n",
      "基于公告事件的投资决策分析系统\n",
      "基于UGC社交数据分析的芜湖市目的地形象感知平台\n",
      "“数字反哺”—基于时空大数据和神经网络技术的智慧助老大数据平台\n",
      "掌上药典——基于知识图谱的一站式药物系统\n",
      "基于深度学习的运动意图识别算法研究\n",
      "基于医疗磁通大数据的人体金属植入物检测方案\n",
      "《资治通鉴》数字人文知识库\n",
      "基于机器学习的药物筛选的QSAR模型构建\n",
      "一种基于BERT的病毒B细胞表位预测工具\n",
      "新冠病亡率预测及其对经济的影响\n",
      "基于区块链和大数据分析技术的智慧养老服务平台\n",
      "基于时变SEIR模型的中国疫情预测及数据可视化平台\n",
      "基于中华文化知识图谱的智能问答可视化平台\n",
      "传染疾病精准防控与智能分析系统\n",
      "对疫情严重程度影响因素及疫苗分配不公的研究\n",
      "电力大数据智能分析处理系统\n",
      "后疫情时代数字化防疫防控辅助系统\n",
      "数据解读后疫情时代的全球应对与中国策略\n",
      "从大数据中解读疫情衍生风险\n",
      "基于异构计算的基因大数据GWAS算法计算加速研究\n",
      "大数据下的新冠疫情\n",
      "军链-基于知识图谱的BILSTM-CRF和BIGRU自然语言处理模型和杀伤链匹配系统\n",
      "“负面预警通”——面向海量互联网文本的企业负面事件智能预警系统\n",
      "面向多维水污染时间序列矩阵分析的河道精准监测应用\n",
      "基于元学习孪生网络的舌象辅助诊断\n",
      "基于深度学习的CXR图像肺炎识别和病灶定位系统\n",
      "CAIPredictor——基于国际文献大数据的跨领域论文推荐系统\n",
      "数智抗疫向未来\n",
      "基于深度学习的西江航道水位预测服务系统研究\n",
      "智慧医疗服务平台\n",
      "基于时间序列模型和聚类分析解读全球经济\n",
      "新冠疫情下不同类型国家政策的比较分析\n",
      "基于微博关键词提取的上海疫情舆论热点情感分析\n",
      "基于ARIMA-CNN-LSTM的多变量黄河水位时间序列预测模型研究\n",
      "基于知识图谱的智慧司法平台\n",
      "“医”来二去：海量医学文献的语义消歧与推荐系统\n",
      "基于Hive数据仓库和Sklearn回归分析人才招聘大数据\n",
      "基于卷积神经网络的核桃虫害识别系统\n",
      "360°云医——基于深度学习的全景医疗系统\n",
      "基于半监督深度学习的弹幕文本大数据情感识别系统\n",
      "简医——基于深度卷积神经网络的COVID-19胸片检测与辅助诊断平台\n",
      "基于无监督学习的水产品养殖周期态势特征建模分析\n",
      "悠悠识瓷-基于VGG神经网络的陶瓷器型与纹饰识别小程序\n",
      "预药阁——基于多视图学习的药物药物相互作用预测平台\n",
      "锡林郭勒盟生态环境数据挖掘、评估、预测与改善方案\n",
      "基于LightGBM的地铁客流预测和站点分类可视分析系统\n",
      "Envir-Monitor—基于多算法融合的排污异常监测系统\n",
      "基于海量校园大数据的实时校园管理系统—以四川农业大学为例\n",
      "基于数据分析的智能长者食堂\n",
      "营养花园-基于多模型融合推荐算法的营养配餐系统\n",
      "碳从何来？又往何去？——基于CGE模型和Attention-DRL的“双碳”国情分析\n",
      "基于联邦学习的云-边-端智能协同诊断平台\n",
      "SpiderX-基于图论与深度学习的网络水军智能检测\n",
      "航空无线电异常信号及干扰源辅助监管系统\n",
      "基于多模态特征融合的浏览器恶意拓展监测系统\n",
      "“映像”——基于AI分类的社交云相册\n",
      "信道大数据分析与物理层密钥生成系统\n",
      "观往知来——基于顾客逛店轨迹的智能导览与推荐系统\n",
      "基于超图神经网络的股票辅助智能决策系统\n"
     ]
    }
   ],
   "source": [
    "combined_names = '\\n'.join(result['作品名称'].tolist())\n",
    "print(combined_names)"
   ]
  },
  {
   "cell_type": "code",
   "execution_count": 5,
   "metadata": {},
   "outputs": [],
   "source": [
    "import mytools"
   ]
  },
  {
   "cell_type": "code",
   "execution_count": 11,
   "metadata": {},
   "outputs": [
    {
     "data": {
      "text/markdown": [
       "```python\n",
       "{\n",
       "    \"一级分类\": {\n",
       "        \"疫情防控与健康管理\": {\n",
       "            \"疫情防控系统\",\n",
       "            \"健康监测与预测\",\n",
       "            \"疫情分析与决策支持\"\n",
       "        },\n",
       "        \"大数据技术应用\": {\n",
       "            \"数据分析与预测\",\n",
       "            \"智能系统与服务平台\",\n",
       "            \"大数据分析工具\"\n",
       "        },\n",
       "        \"智能医疗与药物研究\": {\n",
       "            \"医疗服务平台\",\n",
       "            \"药物研究与筛选\",\n",
       "            \"智能诊断与辅助决策\"\n",
       "        },\n",
       "        \"社会经济与政策分析\": {\n",
       "            \"经济预测与分析\",\n",
       "            \"政策研究与比较\",\n",
       "            \"社会舆情与事件预警\"\n",
       "        },\n",
       "        \"生态环境与资源管理\": {\n",
       "            \"环境监测与评估\",\n",
       "            \"资源管理与优化\",\n",
       "            \"生态数据分析\"\n",
       "        }\n",
       "    }\n",
       "}\n",
       "```"
      ],
      "text/plain": [
       "<IPython.core.display.Markdown object>"
      ]
     },
     "execution_count": 11,
     "metadata": {},
     "output_type": "execute_result"
    }
   ],
   "source": [
    "大类名称 = category_name\n",
    "提示词 = f'''\n",
    "\n",
    "<works>\n",
    "{combined_names}\n",
    "</works>\n",
    "\n",
    "\n",
    "以上是中国大学生计算机设计大赛国赛的比赛结果中【{大类名称}】大类下，获奖作品的标题。\n",
    "\n",
    "请对上述标题进行分类，要求如下：\n",
    "\n",
    "1. 参考扎根理论，生成三级、二级、一级分类，分类的标准尽可能单一，让类别互斥\n",
    "2. 不要输出分类过程\n",
    "3. 只输出一级、二级分类（不含标题）\n",
    "4. 使用python dict形式输出结果\n",
    "\n",
    "\n",
    "'''\n",
    "mytools.render(mytools.dsllm(提示词))"
   ]
  },
  {
   "cell_type": "code",
   "execution_count": 10,
   "metadata": {},
   "outputs": [],
   "source": [
    "变量 = {\n",
    "    \"一级分类\": {\n",
    "        \"疫情防控\": {\n",
    "            \"疫情监测与预测\",\n",
    "            \"疫情应对与政策分析\",\n",
    "            \"疫情衍生风险解读\"\n",
    "        },\n",
    "        \"大数据技术应用\": {\n",
    "            \"大数据分析与处理\",\n",
    "            \"大数据平台与系统\",\n",
    "            \"大数据算法研究\"\n",
    "        },\n",
    "        \"智能系统与服务\": {\n",
    "            \"智能医疗\",\n",
    "            \"智能养老\",\n",
    "            \"智能交通与环境\"\n",
    "        },\n",
    "        \"数据分析与决策支持\": {\n",
    "            \"数据分析与预测\",\n",
    "            \"决策支持系统\",\n",
    "            \"数据可视化\"\n",
    "        },\n",
    "        \"社会与经济影响\": {\n",
    "            \"社会舆情分析\",\n",
    "            \"经济影响分析\",\n",
    "            \"政策与策略研究\"\n",
    "        }\n",
    "    }\n",
    "}"
   ]
  },
  {
   "cell_type": "code",
   "execution_count": 12,
   "metadata": {},
   "outputs": [],
   "source": [
    "def qwllm(prompt):\n",
    "    from openai import OpenAI\n",
    "\n",
    "    client = OpenAI(\n",
    "        # 若没有配置环境变量，请用百炼API Key将下行替换为：api_key=\"sk-xxx\",\n",
    "        api_key='sk-ec463c7b6c954ae68f325dd04865b7e7', \n",
    "        base_url=\"https://dashscope.aliyuncs.com/compatible-mode/v1\",\n",
    "    )\n",
    "    completion = client.chat.completions.create(\n",
    "        model=\"qwen-plus\", # 模型列表：https://help.aliyun.com/zh/model-studio/getting-started/models\n",
    "        messages=[\n",
    "            {'role': 'system', 'content': 'You are a helpful assistant.'},\n",
    "            {'role': 'user', 'content': prompt}],\n",
    "        )\n",
    "\n",
    "    return completion.choices[0].message.content\n",
    "    \n",
    "# print(completion.choices[0].message.content)"
   ]
  },
  {
   "cell_type": "code",
   "execution_count": 13,
   "metadata": {},
   "outputs": [
    {
     "name": "stdout",
     "output_type": "stream",
     "text": [
      "```python\n",
      "{\n",
      "    \"健康医疗\": {\n",
      "        \"心理健康与行为分析\": [\"基于公共匿名平台数据的高校大学生心理健康问题识别系统\", \"基于深度学习的运动意图识别算法研究\"],\n",
      "        \"疾病诊断与监测\": [\"基于深度学习的CXR图像肺炎识别和病灶定位系统\", \"基于医疗磁通大数据的人体金属植入物检测方案\", \"基于元学习孪生网络的舌象辅助诊断\", \"简医——基于深度卷积神经网络的COVID-19胸片检测与辅助诊断平台\", \"基于无监督学习的水产品养殖周期态势特征建模分析\", \"基于深度学习的核桃虫害识别系统\"],\n",
      "        \"药物与治疗\": [\"基于对抗性迁移学习的药品不良反应监测研究\", \"掌上药典——基于知识图谱的一站式药物系统\", \"基于机器学习的药物筛选的QSAR模型构建\", \"一种基于BERT的病毒B细胞表位预测工具\", \"预药阁——基于多视图学习的药物药物相互作用预测平台\"]\n",
      "    },\n",
      "    \"疫情防控\": {\n",
      "        \"疫情分析与预测\": [\"大数据技术在新冠病毒基因组序列分析中的应用\", \"数据解读新冠疫情与全球应对--基于因果机器学习的新冠疫情与全球经济无偏分析\", \"‘动态清零’视角下的疫情防控决策支撑预测模型\", \"基于时变SEIR模型的中国疫情预测及数据可视化平台\", \"新冠病亡率预测及其对经济的影响\", \"基于深度学习的西江航道水位预测服务系统研究\", \"基于ARIMA-CNN-LSTM的多变量黄河水位时间序列预测模型研究\"],\n",
      "        \"防控平台与系统\": [\"基于大数据技术的社区疫情防控平台\", \"面向社交大数据的舆情分析系统\", \"基于UGC社交数据分析的芜湖市目的地形象感知平台\", \"后疫情时代数字化防疫防控辅助系统\", \"数据解读后疫情时代的全球应对与中国策略\", \"从大数据中解读疫情衍生风险\"]\n",
      "    },\n",
      "    \"社会管理\": {\n",
      "        \"公共安全与服务\": [\"基于区块链和大数据分析技术的智慧养老服务平台\", \"基于公告事件的投资决策分析系统\", \"基于LightGBM的地铁客流预测和站点分类可视分析系统\", \"基于数据分析的智能长者食堂\", \"基于海量校园大数据的实时校园管理系统—以四川农业大学为例\", \"基于多模态特征融合的浏览器恶意拓展监测系统\", \"航空无线电异常信号及干扰源辅助监管系统\", \"信道大数据分析与物理层密钥生成系统\", \"观往知来——基于顾客逛店轨迹的智能导览与推荐系统\"],\n",
      "        \"环境与资源管理\": [\"面向多维水污染时间序列矩阵分析的河道精准监测应用\", \"锡林郭勒盟生态环境数据挖掘、评估、预测与改善方案\", \"Envir-Monitor—基于多算法融合的排污异常监测系统\", \"碳从何来？又往何去？——基于CGE模型和Attention-DRL的‘双碳’国情分析\"]\n",
      "    },\n",
      "    \"信息与技术\": {\n",
      "        \"数据处理与分析\": [\"基于SOA农业大数据管理服务平台\", \"基于Hive数据仓库和Sklearn回归分析人才招聘大数据\", \"基于时间序列模型和聚类分析解读全球经济\", \"基于联邦学习的云-边-端智能协同诊断平台\", \"SpiderX-基于图论与深度学习的网络水军智能检测\", \"基于超图神经网络的股票辅助智能决策系统\"],\n",
      "        \"知识图谱与智能系统\": [\"《资治通鉴》数字人文知识库\", \"基于中华文化知识图谱的智能问答可视化平台\", \"‘医’来二去：海量医学文献的语义消歧与推荐系统\", \"CAIPredictor——基于国际文献大数据的跨领域论文推荐系统\", \"悠悠识瓷-基于VGG神经网络的陶瓷器型与纹饰识别小程序\", \"360°云医——基于深度学习的全景医疗系统\", \"基于半监督深度学习的弹幕文本大数据情感识别系统\", “‘映像’——基于AI分类的社交云相册”]\n",
      "    }\n",
      "}\n",
      "```\n"
     ]
    }
   ],
   "source": [
    "print(qwllm(提示词))"
   ]
  },
  {
   "cell_type": "code",
   "execution_count": null,
   "metadata": {},
   "outputs": [],
   "source": [
    "结果 = {\n",
    "    \"健康医疗\": {\n",
    "        \"心理健康与行为分析\": [\"基于公共匿名平台数据的高校大学生心理健康问题识别系统\", \"基于深度学习的运动意图识别算法研究\"],\n",
    "        \"疾病诊断与监测\": [\"基于深度学习的CXR图像肺炎识别和病灶定位系统\", \"基于医疗磁通大数据的人体金属植入物检测方案\", \"基于元学习孪生网络的舌象辅助诊断\", \"简医——基于深度卷积神经网络的COVID-19胸片检测与辅助诊断平台\", \"基于无监督学习的水产品养殖周期态势特征建模分析\", \"基于深度学习的核桃虫害识别系统\"],\n",
    "        \"药物与治疗\": [\"基于对抗性迁移学习的药品不良反应监测研究\", \"掌上药典——基于知识图谱的一站式药物系统\", \"基于机器学习的药物筛选的QSAR模型构建\", \"一种基于BERT的病毒B细胞表位预测工具\", \"预药阁——基于多视图学习的药物药物相互作用预测平台\"]\n",
    "    },\n",
    "    \"疫情防控\": {\n",
    "        \"疫情分析与预测\": [\"大数据技术在新冠病毒基因组序列分析中的应用\", \"数据解读新冠疫情与全球应对--基于因果机器学习的新冠疫情与全球经济无偏分析\", \"‘动态清零’视角下的疫情防控决策支撑预测模型\", \"基于时变SEIR模型的中国疫情预测及数据可视化平台\", \"新冠病亡率预测及其对经济的影响\", \"基于深度学习的西江航道水位预测服务系统研究\", \"基于ARIMA-CNN-LSTM的多变量黄河水位时间序列预测模型研究\"],\n",
    "        \"防控平台与系统\": [\"基于大数据技术的社区疫情防控平台\", \"面向社交大数据的舆情分析系统\", \"基于UGC社交数据分析的芜湖市目的地形象感知平台\", \"后疫情时代数字化防疫防控辅助系统\", \"数据解读后疫情时代的全球应对与中国策略\", \"从大数据中解读疫情衍生风险\"]\n",
    "    },\n",
    "    \"社会管理\": {\n",
    "        \"公共安全与服务\": [\"基于区块链和大数据分析技术的智慧养老服务平台\", \"基于公告事件的投资决策分析系统\", \"基于LightGBM的地铁客流预测和站点分类可视分析系统\", \"基于数据分析的智能长者食堂\", \"基于海量校园大数据的实时校园管理系统—以四川农业大学为例\", \"基于多模态特征融合的浏览器恶意拓展监测系统\", \"航空无线电异常信号及干扰源辅助监管系统\", \"信道大数据分析与物理层密钥生成系统\", \"观往知来——基于顾客逛店轨迹的智能导览与推荐系统\"],\n",
    "        \"环境与资源管理\": [\"面向多维水污染时间序列矩阵分析的河道精准监测应用\", \"锡林郭勒盟生态环境数据挖掘、评估、预测与改善方案\", \"Envir-Monitor—基于多算法融合的排污异常监测系统\", \"碳从何来？又往何去？——基于CGE模型和Attention-DRL的‘双碳’国情分析\"]\n",
    "    },\n",
    "    \"信息与技术\": {\n",
    "        \"数据处理与分析\": [\"基于SOA农业大数据管理服务平台\", \"基于Hive数据仓库和Sklearn回归分析人才招聘大数据\", \"基于时间序列模型和聚类分析解读全球经济\", \"基于联邦学习的云-边-端智能协同诊断平台\", \"SpiderX-基于图论与深度学习的网络水军智能检测\", \"基于超图神经网络的股票辅助智能决策系统\"],\n",
    "        \"知识图谱与智能系统\": [\"《资治通鉴》数字人文知识库\", \"基于中华文化知识图谱的智能问答可视化平台\", \"‘医’来二去：海量医学文献的语义消歧与推荐系统\", \"CAIPredictor——基于国际文献大数据的跨领域论文推荐系统\", \"悠悠识瓷-基于VGG神经网络的陶瓷器型与纹饰识别小程序\", \"360°云医——基于深度学习的全景医疗系统\", \"基于半监督深度学习的弹幕文本大数据情感识别系统\", “‘映像’——基于AI分类的社交云相册”]\n",
    "    }\n",
    "}"
   ]
  },
  {
   "cell_type": "code",
   "execution_count": 14,
   "metadata": {},
   "outputs": [
    {
     "name": "stdout",
     "output_type": "stream",
     "text": [
      "  Category  Count\n",
      "0     健康医疗     13\n",
      "1     疫情防控     13\n",
      "2     社会管理     13\n",
      "3    信息与技术     14\n"
     ]
    }
   ],
   "source": [
    "import plotly.express as px\n",
    "import pandas as pd\n",
    "\n",
    "# 原始数据\n",
    "data = {\n",
    "    \"健康医疗\": {\n",
    "        \"心理健康与行为分析\": [\"基于公共匿名平台数据的高校大学生心理健康问题识别系统\", \"基于深度学习的运动意图识别算法研究\"],\n",
    "        \"疾病诊断与监测\": [\"基于深度学习的CXR图像肺炎识别和病灶定位系统\", \"基于医疗磁通大数据的人体金属植入物检测方案\", \"基于元学习孪生网络的舌象辅助诊断\", \"简医——基于深度卷积神经网络的COVID-19胸片检测与辅助诊断平台\", \"基于无监督学习的水产品养殖周期态势特征建模分析\", \"基于深度学习的核桃虫害识别系统\"],\n",
    "        \"药物与治疗\": [\"基于对抗性迁移学习的药品不良反应监测研究\", \"掌上药典——基于知识图谱的一站式药物系统\", \"基于机器学习的药物筛选的QSAR模型构建\", \"一种基于BERT的病毒B细胞表位预测工具\", \"预药阁——基于多视图学习的药物药物相互作用预测平台\"]\n",
    "    },\n",
    "    \"疫情防控\": {\n",
    "        \"疫情分析与预测\": [\"大数据技术在新冠病毒基因组序列分析中的应用\", \"数据解读新冠疫情与全球应对--基于因果机器学习的新冠疫情与全球经济无偏分析\", \"‘动态清零’视角下的疫情防控决策支撑预测模型\", \"基于时变SEIR模型的中国疫情预测及数据可视化平台\", \"新冠病亡率预测及其对经济的影响\", \"基于深度学习的西江航道水位预测服务系统研究\", \"基于ARIMA-CNN-LSTM的多变量黄河水位时间序列预测模型研究\"],\n",
    "        \"防控平台与系统\": [\"基于大数据技术的社区疫情防控平台\", \"面向社交大数据的舆情分析系统\", \"基于UGC社交数据分析的芜湖市目的地形象感知平台\", \"后疫情时代数字化防疫防控辅助系统\", \"数据解读后疫情时代的全球应对与中国策略\", \"从大数据中解读疫情衍生风险\"]\n",
    "    },\n",
    "    \"社会管理\": {\n",
    "        \"公共安全与服务\": [\"基于区块链和大数据分析技术的智慧养老服务平台\", \"基于公告事件的投资决策分析系统\", \"基于LightGBM的地铁客流预测和站点分类可视分析系统\", \"基于数据分析的智能长者食堂\", \"基于海量校园大数据的实时校园管理系统—以四川农业大学为例\", \"基于多模态特征融合的浏览器恶意拓展监测系统\", \"航空无线电异常信号及干扰源辅助监管系统\", \"信道大数据分析与物理层密钥生成系统\", \"观往知来——基于顾客逛店轨迹的智能导览与推荐系统\"],\n",
    "        \"环境与资源管理\": [\"面向多维水污染时间序列矩阵分析的河道精准监测应用\", \"锡林郭勒盟生态环境数据挖掘、评估、预测与改善方案\", \"Envir-Monitor—基于多算法融合的排污异常监测系统\", \"碳从何来？又往何去？——基于CGE模型和Attention-DRL的‘双碳’国情分析\"]\n",
    "    },\n",
    "    \"信息与技术\": {\n",
    "        \"数据处理与分析\": [\"基于SOA农业大数据管理服务平台\", \"基于Hive数据仓库和Sklearn回归分析人才招聘大数据\", \"基于时间序列模型和聚类分析解读全球经济\", \"基于联邦学习的云-边-端智能协同诊断平台\", \"SpiderX-基于图论与深度学习的网络水军智能检测\", \"基于超图神经网络的股票辅助智能决策系统\"],\n",
    "        \"知识图谱与智能系统\": [\"《资治通鉴》数字人文知识库\", \"基于中华文化知识图谱的智能问答可视化平台\", \"‘医’来二去：海量医学文献的语义消歧与推荐系统\", \"CAIPredictor——基于国际文献大数据的跨领域论文推荐系统\", \"悠悠识瓷-基于VGG神经网络的陶瓷器型与纹饰识别小程序\", \"360°云医——基于深度学习的全景医疗系统\", \"基于半监督深度学习的弹幕文本大数据情感识别系统\", \"‘映像’——基于AI分类的社交云相册\"]\n",
    "    }\n",
    "}\n",
    "\n",
    "# 统计每个类别下的项目数量\n",
    "category_counts = {}\n",
    "\n",
    "for category, subcategories in data.items():\n",
    "    count = 0\n",
    "    for subcategory, projects in subcategories.items():\n",
    "        count += len(projects)\n",
    "    category_counts[category] = count\n",
    "\n",
    "# 转换为DataFrame\n",
    "df = pd.DataFrame(list(category_counts.items()), columns=['Category', 'Count'])\n",
    "\n",
    "# 打印DataFrame\n",
    "print(df)"
   ]
  },
  {
   "cell_type": "code",
   "execution_count": 15,
   "metadata": {},
   "outputs": [
    {
     "data": {
      "application/vnd.plotly.v1+json": {
       "config": {
        "plotlyServerURL": "https://plot.ly"
       },
       "data": [
        {
         "alignmentgroup": "True",
         "hovertemplate": "Category=%{x}<br>Count=%{text}<extra></extra>",
         "legendgroup": "",
         "marker": {
          "color": "#636efa",
          "pattern": {
           "shape": ""
          }
         },
         "name": "",
         "offsetgroup": "",
         "orientation": "v",
         "showlegend": false,
         "text": [
          13,
          13,
          13,
          14
         ],
         "textposition": "outside",
         "type": "bar",
         "x": [
          "健康医疗",
          "疫情防控",
          "社会管理",
          "信息与技术"
         ],
         "xaxis": "x",
         "y": [
          13,
          13,
          13,
          14
         ],
         "yaxis": "y"
        }
       ],
       "layout": {
        "barmode": "relative",
        "legend": {
         "tracegroupgap": 0
        },
        "template": {
         "data": {
          "bar": [
           {
            "error_x": {
             "color": "#2a3f5f"
            },
            "error_y": {
             "color": "#2a3f5f"
            },
            "marker": {
             "line": {
              "color": "#E5ECF6",
              "width": 0.5
             },
             "pattern": {
              "fillmode": "overlay",
              "size": 10,
              "solidity": 0.2
             }
            },
            "type": "bar"
           }
          ],
          "barpolar": [
           {
            "marker": {
             "line": {
              "color": "#E5ECF6",
              "width": 0.5
             },
             "pattern": {
              "fillmode": "overlay",
              "size": 10,
              "solidity": 0.2
             }
            },
            "type": "barpolar"
           }
          ],
          "carpet": [
           {
            "aaxis": {
             "endlinecolor": "#2a3f5f",
             "gridcolor": "white",
             "linecolor": "white",
             "minorgridcolor": "white",
             "startlinecolor": "#2a3f5f"
            },
            "baxis": {
             "endlinecolor": "#2a3f5f",
             "gridcolor": "white",
             "linecolor": "white",
             "minorgridcolor": "white",
             "startlinecolor": "#2a3f5f"
            },
            "type": "carpet"
           }
          ],
          "choropleth": [
           {
            "colorbar": {
             "outlinewidth": 0,
             "ticks": ""
            },
            "type": "choropleth"
           }
          ],
          "contour": [
           {
            "colorbar": {
             "outlinewidth": 0,
             "ticks": ""
            },
            "colorscale": [
             [
              0,
              "#0d0887"
             ],
             [
              0.1111111111111111,
              "#46039f"
             ],
             [
              0.2222222222222222,
              "#7201a8"
             ],
             [
              0.3333333333333333,
              "#9c179e"
             ],
             [
              0.4444444444444444,
              "#bd3786"
             ],
             [
              0.5555555555555556,
              "#d8576b"
             ],
             [
              0.6666666666666666,
              "#ed7953"
             ],
             [
              0.7777777777777778,
              "#fb9f3a"
             ],
             [
              0.8888888888888888,
              "#fdca26"
             ],
             [
              1,
              "#f0f921"
             ]
            ],
            "type": "contour"
           }
          ],
          "contourcarpet": [
           {
            "colorbar": {
             "outlinewidth": 0,
             "ticks": ""
            },
            "type": "contourcarpet"
           }
          ],
          "heatmap": [
           {
            "colorbar": {
             "outlinewidth": 0,
             "ticks": ""
            },
            "colorscale": [
             [
              0,
              "#0d0887"
             ],
             [
              0.1111111111111111,
              "#46039f"
             ],
             [
              0.2222222222222222,
              "#7201a8"
             ],
             [
              0.3333333333333333,
              "#9c179e"
             ],
             [
              0.4444444444444444,
              "#bd3786"
             ],
             [
              0.5555555555555556,
              "#d8576b"
             ],
             [
              0.6666666666666666,
              "#ed7953"
             ],
             [
              0.7777777777777778,
              "#fb9f3a"
             ],
             [
              0.8888888888888888,
              "#fdca26"
             ],
             [
              1,
              "#f0f921"
             ]
            ],
            "type": "heatmap"
           }
          ],
          "heatmapgl": [
           {
            "colorbar": {
             "outlinewidth": 0,
             "ticks": ""
            },
            "colorscale": [
             [
              0,
              "#0d0887"
             ],
             [
              0.1111111111111111,
              "#46039f"
             ],
             [
              0.2222222222222222,
              "#7201a8"
             ],
             [
              0.3333333333333333,
              "#9c179e"
             ],
             [
              0.4444444444444444,
              "#bd3786"
             ],
             [
              0.5555555555555556,
              "#d8576b"
             ],
             [
              0.6666666666666666,
              "#ed7953"
             ],
             [
              0.7777777777777778,
              "#fb9f3a"
             ],
             [
              0.8888888888888888,
              "#fdca26"
             ],
             [
              1,
              "#f0f921"
             ]
            ],
            "type": "heatmapgl"
           }
          ],
          "histogram": [
           {
            "marker": {
             "pattern": {
              "fillmode": "overlay",
              "size": 10,
              "solidity": 0.2
             }
            },
            "type": "histogram"
           }
          ],
          "histogram2d": [
           {
            "colorbar": {
             "outlinewidth": 0,
             "ticks": ""
            },
            "colorscale": [
             [
              0,
              "#0d0887"
             ],
             [
              0.1111111111111111,
              "#46039f"
             ],
             [
              0.2222222222222222,
              "#7201a8"
             ],
             [
              0.3333333333333333,
              "#9c179e"
             ],
             [
              0.4444444444444444,
              "#bd3786"
             ],
             [
              0.5555555555555556,
              "#d8576b"
             ],
             [
              0.6666666666666666,
              "#ed7953"
             ],
             [
              0.7777777777777778,
              "#fb9f3a"
             ],
             [
              0.8888888888888888,
              "#fdca26"
             ],
             [
              1,
              "#f0f921"
             ]
            ],
            "type": "histogram2d"
           }
          ],
          "histogram2dcontour": [
           {
            "colorbar": {
             "outlinewidth": 0,
             "ticks": ""
            },
            "colorscale": [
             [
              0,
              "#0d0887"
             ],
             [
              0.1111111111111111,
              "#46039f"
             ],
             [
              0.2222222222222222,
              "#7201a8"
             ],
             [
              0.3333333333333333,
              "#9c179e"
             ],
             [
              0.4444444444444444,
              "#bd3786"
             ],
             [
              0.5555555555555556,
              "#d8576b"
             ],
             [
              0.6666666666666666,
              "#ed7953"
             ],
             [
              0.7777777777777778,
              "#fb9f3a"
             ],
             [
              0.8888888888888888,
              "#fdca26"
             ],
             [
              1,
              "#f0f921"
             ]
            ],
            "type": "histogram2dcontour"
           }
          ],
          "mesh3d": [
           {
            "colorbar": {
             "outlinewidth": 0,
             "ticks": ""
            },
            "type": "mesh3d"
           }
          ],
          "parcoords": [
           {
            "line": {
             "colorbar": {
              "outlinewidth": 0,
              "ticks": ""
             }
            },
            "type": "parcoords"
           }
          ],
          "pie": [
           {
            "automargin": true,
            "type": "pie"
           }
          ],
          "scatter": [
           {
            "fillpattern": {
             "fillmode": "overlay",
             "size": 10,
             "solidity": 0.2
            },
            "type": "scatter"
           }
          ],
          "scatter3d": [
           {
            "line": {
             "colorbar": {
              "outlinewidth": 0,
              "ticks": ""
             }
            },
            "marker": {
             "colorbar": {
              "outlinewidth": 0,
              "ticks": ""
             }
            },
            "type": "scatter3d"
           }
          ],
          "scattercarpet": [
           {
            "marker": {
             "colorbar": {
              "outlinewidth": 0,
              "ticks": ""
             }
            },
            "type": "scattercarpet"
           }
          ],
          "scattergeo": [
           {
            "marker": {
             "colorbar": {
              "outlinewidth": 0,
              "ticks": ""
             }
            },
            "type": "scattergeo"
           }
          ],
          "scattergl": [
           {
            "marker": {
             "colorbar": {
              "outlinewidth": 0,
              "ticks": ""
             }
            },
            "type": "scattergl"
           }
          ],
          "scattermapbox": [
           {
            "marker": {
             "colorbar": {
              "outlinewidth": 0,
              "ticks": ""
             }
            },
            "type": "scattermapbox"
           }
          ],
          "scatterpolar": [
           {
            "marker": {
             "colorbar": {
              "outlinewidth": 0,
              "ticks": ""
             }
            },
            "type": "scatterpolar"
           }
          ],
          "scatterpolargl": [
           {
            "marker": {
             "colorbar": {
              "outlinewidth": 0,
              "ticks": ""
             }
            },
            "type": "scatterpolargl"
           }
          ],
          "scatterternary": [
           {
            "marker": {
             "colorbar": {
              "outlinewidth": 0,
              "ticks": ""
             }
            },
            "type": "scatterternary"
           }
          ],
          "surface": [
           {
            "colorbar": {
             "outlinewidth": 0,
             "ticks": ""
            },
            "colorscale": [
             [
              0,
              "#0d0887"
             ],
             [
              0.1111111111111111,
              "#46039f"
             ],
             [
              0.2222222222222222,
              "#7201a8"
             ],
             [
              0.3333333333333333,
              "#9c179e"
             ],
             [
              0.4444444444444444,
              "#bd3786"
             ],
             [
              0.5555555555555556,
              "#d8576b"
             ],
             [
              0.6666666666666666,
              "#ed7953"
             ],
             [
              0.7777777777777778,
              "#fb9f3a"
             ],
             [
              0.8888888888888888,
              "#fdca26"
             ],
             [
              1,
              "#f0f921"
             ]
            ],
            "type": "surface"
           }
          ],
          "table": [
           {
            "cells": {
             "fill": {
              "color": "#EBF0F8"
             },
             "line": {
              "color": "white"
             }
            },
            "header": {
             "fill": {
              "color": "#C8D4E3"
             },
             "line": {
              "color": "white"
             }
            },
            "type": "table"
           }
          ]
         },
         "layout": {
          "annotationdefaults": {
           "arrowcolor": "#2a3f5f",
           "arrowhead": 0,
           "arrowwidth": 1
          },
          "autotypenumbers": "strict",
          "coloraxis": {
           "colorbar": {
            "outlinewidth": 0,
            "ticks": ""
           }
          },
          "colorscale": {
           "diverging": [
            [
             0,
             "#8e0152"
            ],
            [
             0.1,
             "#c51b7d"
            ],
            [
             0.2,
             "#de77ae"
            ],
            [
             0.3,
             "#f1b6da"
            ],
            [
             0.4,
             "#fde0ef"
            ],
            [
             0.5,
             "#f7f7f7"
            ],
            [
             0.6,
             "#e6f5d0"
            ],
            [
             0.7,
             "#b8e186"
            ],
            [
             0.8,
             "#7fbc41"
            ],
            [
             0.9,
             "#4d9221"
            ],
            [
             1,
             "#276419"
            ]
           ],
           "sequential": [
            [
             0,
             "#0d0887"
            ],
            [
             0.1111111111111111,
             "#46039f"
            ],
            [
             0.2222222222222222,
             "#7201a8"
            ],
            [
             0.3333333333333333,
             "#9c179e"
            ],
            [
             0.4444444444444444,
             "#bd3786"
            ],
            [
             0.5555555555555556,
             "#d8576b"
            ],
            [
             0.6666666666666666,
             "#ed7953"
            ],
            [
             0.7777777777777778,
             "#fb9f3a"
            ],
            [
             0.8888888888888888,
             "#fdca26"
            ],
            [
             1,
             "#f0f921"
            ]
           ],
           "sequentialminus": [
            [
             0,
             "#0d0887"
            ],
            [
             0.1111111111111111,
             "#46039f"
            ],
            [
             0.2222222222222222,
             "#7201a8"
            ],
            [
             0.3333333333333333,
             "#9c179e"
            ],
            [
             0.4444444444444444,
             "#bd3786"
            ],
            [
             0.5555555555555556,
             "#d8576b"
            ],
            [
             0.6666666666666666,
             "#ed7953"
            ],
            [
             0.7777777777777778,
             "#fb9f3a"
            ],
            [
             0.8888888888888888,
             "#fdca26"
            ],
            [
             1,
             "#f0f921"
            ]
           ]
          },
          "colorway": [
           "#636efa",
           "#EF553B",
           "#00cc96",
           "#ab63fa",
           "#FFA15A",
           "#19d3f3",
           "#FF6692",
           "#B6E880",
           "#FF97FF",
           "#FECB52"
          ],
          "font": {
           "color": "#2a3f5f"
          },
          "geo": {
           "bgcolor": "white",
           "lakecolor": "white",
           "landcolor": "#E5ECF6",
           "showlakes": true,
           "showland": true,
           "subunitcolor": "white"
          },
          "hoverlabel": {
           "align": "left"
          },
          "hovermode": "closest",
          "mapbox": {
           "style": "light"
          },
          "paper_bgcolor": "white",
          "plot_bgcolor": "#E5ECF6",
          "polar": {
           "angularaxis": {
            "gridcolor": "white",
            "linecolor": "white",
            "ticks": ""
           },
           "bgcolor": "#E5ECF6",
           "radialaxis": {
            "gridcolor": "white",
            "linecolor": "white",
            "ticks": ""
           }
          },
          "scene": {
           "xaxis": {
            "backgroundcolor": "#E5ECF6",
            "gridcolor": "white",
            "gridwidth": 2,
            "linecolor": "white",
            "showbackground": true,
            "ticks": "",
            "zerolinecolor": "white"
           },
           "yaxis": {
            "backgroundcolor": "#E5ECF6",
            "gridcolor": "white",
            "gridwidth": 2,
            "linecolor": "white",
            "showbackground": true,
            "ticks": "",
            "zerolinecolor": "white"
           },
           "zaxis": {
            "backgroundcolor": "#E5ECF6",
            "gridcolor": "white",
            "gridwidth": 2,
            "linecolor": "white",
            "showbackground": true,
            "ticks": "",
            "zerolinecolor": "white"
           }
          },
          "shapedefaults": {
           "line": {
            "color": "#2a3f5f"
           }
          },
          "ternary": {
           "aaxis": {
            "gridcolor": "white",
            "linecolor": "white",
            "ticks": ""
           },
           "baxis": {
            "gridcolor": "white",
            "linecolor": "white",
            "ticks": ""
           },
           "bgcolor": "#E5ECF6",
           "caxis": {
            "gridcolor": "white",
            "linecolor": "white",
            "ticks": ""
           }
          },
          "title": {
           "x": 0.05
          },
          "xaxis": {
           "automargin": true,
           "gridcolor": "white",
           "linecolor": "white",
           "ticks": "",
           "title": {
            "standoff": 15
           },
           "zerolinecolor": "white",
           "zerolinewidth": 2
          },
          "yaxis": {
           "automargin": true,
           "gridcolor": "white",
           "linecolor": "white",
           "ticks": "",
           "title": {
            "standoff": 15
           },
           "zerolinecolor": "white",
           "zerolinewidth": 2
          }
         }
        },
        "title": {
         "text": "各类别下的项目数量"
        },
        "xaxis": {
         "anchor": "y",
         "domain": [
          0,
          1
         ],
         "title": {
          "text": "Category"
         }
        },
        "yaxis": {
         "anchor": "x",
         "domain": [
          0,
          1
         ],
         "title": {
          "text": "Count"
         }
        }
       }
      }
     },
     "metadata": {},
     "output_type": "display_data"
    }
   ],
   "source": [
    "# 使用plotly.express绘制柱状图\n",
    "fig = px.bar(df, x='Category', y='Count', title='各类别下的项目数量', text='Count')\n",
    "fig.update_traces(textposition='outside')\n",
    "fig.show()"
   ]
  }
 ],
 "metadata": {
  "kernelspec": {
   "display_name": "Python 3",
   "language": "python",
   "name": "python3"
  },
  "language_info": {
   "codemirror_mode": {
    "name": "ipython",
    "version": 3
   },
   "file_extension": ".py",
   "mimetype": "text/x-python",
   "name": "python",
   "nbconvert_exporter": "python",
   "pygments_lexer": "ipython3",
   "version": "3.8.10"
  }
 },
 "nbformat": 4,
 "nbformat_minor": 2
}
