{
 "cells": [
  {
   "cell_type": "code",
   "execution_count": 3,
   "metadata": {},
   "outputs": [
    {
     "name": "stdout",
     "output_type": "stream",
     "text": [
      "艰难的第一行\n"
     ]
    }
   ],
   "source": [
    "print('艰难的第一行')"
   ]
  },
  {
   "cell_type": "code",
   "execution_count": 4,
   "metadata": {},
   "outputs": [
    {
     "ename": "SyntaxError",
     "evalue": "invalid character in identifier (1952768573.py, line 1)",
     "output_type": "error",
     "traceback": [
      "\u001b[1;36m  Cell \u001b[1;32mIn[4], line 1\u001b[1;36m\u001b[0m\n\u001b[1;33m    print（'艰难的第一行')\u001b[0m\n\u001b[1;37m         ^\u001b[0m\n\u001b[1;31mSyntaxError\u001b[0m\u001b[1;31m:\u001b[0m invalid character in identifier\n"
     ]
    }
   ],
   "source": [
    "print（'艰难的第一行')"
   ]
  },
  {
   "cell_type": "code",
   "execution_count": 1,
   "metadata": {},
   "outputs": [
    {
     "name": "stdout",
     "output_type": "stream",
     "text": [
      "距离放假还有 107 天。\n"
     ]
    }
   ],
   "source": [
    "# 当前周数和总周数\n",
    "current_week = 5\n",
    "total_weeks = 20\n",
    "\n",
    "# 计算剩余的周数\n",
    "remaining_weeks = total_weeks - current_week\n",
    "\n",
    "# 每周有 7天\n",
    "days_from_remaining_weeks = remaining_weeks * 7\n",
    "\n",
    "# 当前周剩余的天数（今天是星期五，剩余 2天到下一个星期一）\n",
    "days_in_current_week = 2  # 从星期五到下一个星期一\n",
    "\n",
    "# 计算总天数\n",
    "total_days_until_holiday = days_from_remaining_weeks + days_in_current_week\n",
    "\n",
    "print(f\"距离放假还有 {total_days_until_holiday} 天。\")\n"
   ]
  }
 ],
 "metadata": {
  "kernelspec": {
   "display_name": "Python 3",
   "language": "python",
   "name": "python3"
  },
  "language_info": {
   "codemirror_mode": {
    "name": "ipython",
    "version": 3
   },
   "file_extension": ".py",
   "mimetype": "text/x-python",
   "name": "python",
   "nbconvert_exporter": "python",
   "pygments_lexer": "ipython3",
   "version": "3.8.10"
  },
  "orig_nbformat": 4
 },
 "nbformat": 4,
 "nbformat_minor": 2
}
