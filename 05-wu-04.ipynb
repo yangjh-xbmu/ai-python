{
 "cells": [
  {
   "cell_type": "code",
   "execution_count": 3,
   "metadata": {},
   "outputs": [
    {
     "name": "stdout",
     "output_type": "stream",
     "text": [
      "艰难的第一行\n"
     ]
    }
   ],
   "source": [
    "print('艰难的第一行')"
   ]
  },
  {
   "cell_type": "code",
   "execution_count": 4,
   "metadata": {},
   "outputs": [
    {
     "ename": "SyntaxError",
     "evalue": "invalid character in identifier (1952768573.py, line 1)",
     "output_type": "error",
     "traceback": [
      "\u001b[1;36m  Cell \u001b[1;32mIn[4], line 1\u001b[1;36m\u001b[0m\n\u001b[1;33m    print（'艰难的第一行')\u001b[0m\n\u001b[1;37m         ^\u001b[0m\n\u001b[1;31mSyntaxError\u001b[0m\u001b[1;31m:\u001b[0m invalid character in identifier\n"
     ]
    }
   ],
   "source": [
    "print（'艰难的第一行')"
   ]
  },
  {
   "cell_type": "code",
   "execution_count": 5,
   "metadata": {},
   "outputs": [
    {
     "ename": "NameError",
     "evalue": "name 'tota_weeks' is not defined",
     "output_type": "error",
     "traceback": [
      "\u001b[1;31m---------------------------------------------------------------------------\u001b[0m",
      "\u001b[1;31mNameError\u001b[0m                                 Traceback (most recent call last)",
      "Cell \u001b[1;32mIn[5], line 6\u001b[0m\n\u001b[0;32m      3\u001b[0m total_weeks \u001b[39m=\u001b[39m \u001b[39m20\u001b[39m\n\u001b[0;32m      5\u001b[0m \u001b[39m# 计算剩余的周数\u001b[39;00m\n\u001b[1;32m----> 6\u001b[0m remaining_weeks \u001b[39m=\u001b[39m tota_weeks \u001b[39m-\u001b[39m current_week\n\u001b[0;32m      8\u001b[0m \u001b[39m# 每周有 7天\u001b[39;00m\n\u001b[0;32m      9\u001b[0m days_from_remaining_weeks \u001b[39m=\u001b[39m remaining_weeks \u001b[39m*\u001b[39m \u001b[39m7\u001b[39m\n",
      "\u001b[1;31mNameError\u001b[0m: name 'tota_weeks' is not defined"
     ]
    }
   ],
   "source": [
    "# 当前周数和总周数\n",
    "current_week = 5\n",
    "total_weeks = 20\n",
    "\n",
    "# 计算剩余的周数\n",
    "remaining_weeks = tota_weeks - current_week\n",
    "\n",
    "# 每周有 7天\n",
    "days_from_remaining_weeks = remaining_weeks * 7\n",
    "\n",
    "# 当前周剩余的天数（今天是星期五，剩余 2天到下一个星期一）\n",
    "days_in_current_week = 2  # 从星期五到下一个星期一\n",
    "\n",
    "# 计算总天数\n",
    "total_days_until_holiday = days_from_remaining_weeks + days_in_current_week\n",
    "\n",
    "print(f\"距离放假还有 {total_days_until_holiday} 天。\")\n"
   ]
  }
 ],
 "metadata": {
  "kernelspec": {
   "display_name": "Python 3",
   "language": "python",
   "name": "python3"
  },
  "language_info": {
   "codemirror_mode": {
    "name": "ipython",
    "version": 3
   },
   "file_extension": ".py",
   "mimetype": "text/x-python",
   "name": "python",
   "nbconvert_exporter": "python",
   "pygments_lexer": "ipython3",
   "version": "3.8.10"
  },
  "orig_nbformat": 4
 },
 "nbformat": 4,
 "nbformat_minor": 2
}
