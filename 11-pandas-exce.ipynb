{
 "cells": [
  {
   "cell_type": "code",
   "execution_count": 2,
   "metadata": {},
   "outputs": [],
   "source": [
    "# 使用pdfplumber包读取pdf文件，位于data\\2022计算机设计大赛国奖.pdf，数据是从第四页开始，读取所有表格数据，保存为csv文件，文件名为2022计算机设计大赛国奖.csv 表头为：大类名称 奖项 作品编号 作品名称 参赛学校 作者 指导教师\n",
    "\n",
    "import pdfplumber\n",
    "import pandas as pd\n",
    "\n",
    "# 读取PDF文件\n",
    "# 创建空列表存储所有表格数据\n",
    "all_tables = []\n",
    "\n",
    "with pdfplumber.open('data/2022计算机设计大赛国奖.pdf') as pdf:\n",
    "    # 遍历所有页面\n",
    "    for page in pdf.pages[3:]:  # Start from page 4 (index 3)\n",
    "        # 读取表格数据\n",
    "        tables = page.extract_tables()\n",
    "        # 将每个表格添加到列表中\n",
    "        for table in tables:\n",
    "            all_tables.extend(table)\n",
    "\n",
    "# 创建DataFrame，设置列名\n",
    "df = pd.DataFrame(all_tables[1:], columns=['大类名称', '奖项', '作品编号', '作品名称', '参赛学校', '作者', '指导教师'])\n",
    "\n",
    "# 保存为csv文件\n",
    "df.to_csv('data/2022计算机设计大赛国奖.csv', index=False)\n"
   ]
  },
  {
   "cell_type": "code",
   "execution_count": 3,
   "metadata": {},
   "outputs": [],
   "source": [
    "# 我发现dataframe中有重复的数据，请删除重复的数据\n",
    "df = pd.read_csv('data/2022计算机设计大赛国奖.csv')\n",
    "df = df.drop_duplicates()\n",
    "df.to_csv('data/2022计算机设计大赛国奖.csv', index=False)\n"
   ]
  },
  {
   "cell_type": "code",
   "execution_count": 7,
   "metadata": {},
   "outputs": [],
   "source": [
    "# 读取原始CSV文件内容\n",
    "with open('data/2022计算机设计大赛国奖.csv', 'r', encoding='utf-8') as f:\n",
    "    lines = f.readlines()\n",
    "\n",
    "# 存储处理后的行\n",
    "processed_lines = []\n",
    "header = lines[0].strip()  # 保存第一行作为表头\n",
    "i = 0\n",
    "\n",
    "while i < len(lines):\n",
    "    line = lines[i].strip()\n",
    "    \n",
    "    # 跳过与表头相同的行\n",
    "    if i > 0 and line == header:\n",
    "        i += 1\n",
    "        continue\n",
    "        \n",
    "    # 检查是否需要合并下一行\n",
    "    if line.count('\"') % 2 == 1 and i+1 < len(lines):\n",
    "        # 有未闭合的引号,需要与下一行合并\n",
    "        line = line + lines[i+1].strip()\n",
    "        i += 2\n",
    "    else:\n",
    "        i += 1\n",
    "        \n",
    "    processed_lines.append(line)\n",
    "\n",
    "# 写入新文件\n",
    "with open('data/2022计算机设计大赛国奖清理后.csv', 'w', encoding='utf-8') as f:\n",
    "    f.write('\\n'.join(processed_lines))\n"
   ]
  },
  {
   "cell_type": "code",
   "execution_count": null,
   "metadata": {},
   "outputs": [],
   "source": []
  },
  {
   "cell_type": "code",
   "execution_count": null,
   "metadata": {},
   "outputs": [],
   "source": []
  }
 ],
 "metadata": {
  "kernelspec": {
   "display_name": "Python 3",
   "language": "python",
   "name": "python3"
  },
  "language_info": {
   "codemirror_mode": {
    "name": "ipython",
    "version": 3
   },
   "file_extension": ".py",
   "mimetype": "text/x-python",
   "name": "python",
   "nbconvert_exporter": "python",
   "pygments_lexer": "ipython3",
   "version": "3.8.10"
  }
 },
 "nbformat": 4,
 "nbformat_minor": 2
}
