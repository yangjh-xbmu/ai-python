{
 "cells": [
  {
   "cell_type": "code",
   "execution_count": 5,
   "metadata": {},
   "outputs": [
    {
     "data": {
      "text/plain": [
       "str"
      ]
     },
     "execution_count": 5,
     "metadata": {},
     "output_type": "execute_result"
    }
   ],
   "source": [
    "# type()\n",
    "# help(type)\n",
    "type('3.3')"
   ]
  },
  {
   "cell_type": "code",
   "execution_count": 10,
   "metadata": {},
   "outputs": [
    {
     "name": "stdout",
     "output_type": "stream",
     "text": [
      "我赚了15.00\n"
     ]
    }
   ],
   "source": [
    "print(f'我赚了{100*0.15:.2f}')"
   ]
  },
  {
   "cell_type": "code",
   "execution_count": 11,
   "metadata": {},
   "outputs": [],
   "source": [
    "yesterday = 100\n",
    "total = yesterday + 200\n",
    "total = total +300"
   ]
  },
  {
   "cell_type": "code",
   "execution_count": 15,
   "metadata": {},
   "outputs": [],
   "source": [
    "def llm(message):\n",
    "    print(f'你传入大模型的信息是：{message}')"
   ]
  },
  {
   "cell_type": "code",
   "execution_count": 16,
   "metadata": {},
   "outputs": [
    {
     "name": "stdout",
     "output_type": "stream",
     "text": [
      "你传入大模型的信息是：你好\n"
     ]
    }
   ],
   "source": [
    "llm('你好')"
   ]
  },
  {
   "cell_type": "code",
   "execution_count": 5,
   "metadata": {},
   "outputs": [],
   "source": [
    "import xf"
   ]
  },
  {
   "cell_type": "code",
   "execution_count": 8,
   "metadata": {},
   "outputs": [
    {
     "data": {
      "text/plain": [
       "'Python中的type函数主要用于**获取对象的类型和动态创建类**。\\n\\ntype() 是 Python 中的一个内置函数，它提供了一种检查对象数据类型的便捷方式。这个函数的主要功能包括：\\n\\n1. **获取对象的类型**：当传递一个参数给 type() 函数时，它会返回该对象的类型。例如，`type(42)` 会返回 `<class \\'int\\'>`，表示整数类型；`type(\"Hello, World!\")` 会返回 `<class \\'str\\'>`，表示字符串类型。这一功能对于编写通用代码或调试非常有用，因为它允许开发者在不明确对象具体类型的情况下进行操作。\\n\\n2. **动态创建类**：除了用于类型检查外，type() 函数还可以用来动态地创建类。通过传递三个参数——类的名称、基类的元组（可以为空）以及包含属性和方法的字典——可以生成一个新的类。这种能力使得 Python 支持元编程，即在运行时改变或扩展程序结构的能力。\\n\\n此外，type() 函数还可以与元类结合使用，以实现更高级的定制行为。元类是定义类的“东西”，而 type() 本身就是一个元类。通过继承 type 并重写其方法，可以控制类的创建过程，从而添加自定义的行为或属性。\\n\\n综上所述，Python 中的 type() 函数不仅能够查询对象的类型，还能够动态地创建和修改类，这体现了 Python 语言的灵活性和强大的元编程能力。'"
      ]
     },
     "execution_count": 8,
     "metadata": {},
     "output_type": "execute_result"
    }
   ],
   "source": [
    "xf.xfllm('Python中的type函数的主要功能')"
   ]
  },
  {
   "cell_type": "code",
   "execution_count": 35,
   "metadata": {},
   "outputs": [
    {
     "data": {
      "text/plain": [
       "LLMResult(generations=[[ChatGeneration(text='您好！有什么我可以帮助您的吗？', message=AIMessage(content='您好！有什么我可以帮助您的吗？'))]], llm_output={'token_usage': {'question_tokens': 1, 'prompt_tokens': 1, 'completion_tokens': 8, 'total_tokens': 9}}, run=[RunInfo(run_id=UUID('f5607773-9102-4432-9b91-06b7951a41eb'))])"
      ]
     },
     "execution_count": 35,
     "metadata": {},
     "output_type": "execute_result"
    }
   ],
   "source": [
    "resp"
   ]
  },
  {
   "cell_type": "code",
   "execution_count": 29,
   "metadata": {},
   "outputs": [
    {
     "data": {
      "text/plain": [
       "'您好！有什么我可以帮助您的吗？'"
      ]
     },
     "execution_count": 29,
     "metadata": {},
     "output_type": "execute_result"
    }
   ],
   "source": [
    "resp.generations[0][0].text"
   ]
  }
 ],
 "metadata": {
  "kernelspec": {
   "display_name": "Python 3",
   "language": "python",
   "name": "python3"
  },
  "language_info": {
   "codemirror_mode": {
    "name": "ipython",
    "version": 3
   },
   "file_extension": ".py",
   "mimetype": "text/x-python",
   "name": "python",
   "nbconvert_exporter": "python",
   "pygments_lexer": "ipython3",
   "version": "3.8.10"
  },
  "orig_nbformat": 4
 },
 "nbformat": 4,
 "nbformat_minor": 2
}
