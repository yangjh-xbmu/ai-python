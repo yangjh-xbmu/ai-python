{
 "cells": [
  {
   "cell_type": "code",
   "execution_count": 2,
   "metadata": {},
   "outputs": [],
   "source": [
    "import xf"
   ]
  },
  {
   "cell_type": "code",
   "execution_count": null,
   "metadata": {},
   "outputs": [],
   "source": [
    "result = xf.xfllm('兰州和纽约比，怎么样？')\n",
    "print(result)"
   ]
  },
  {
   "cell_type": "code",
   "execution_count": 7,
   "metadata": {},
   "outputs": [
    {
     "name": "stdout",
     "output_type": "stream",
     "text": [
      "蝎牛之合，情深意重。\n",
      "金稳蝎锐，性相得彰。\n",
      "然须防固执之争，彼此谅解方长久。\n",
      "共济时艰，携手笑傲人间。\n"
     ]
    }
   ],
   "source": [
    "constellation1 = \"天蝎座\"\n",
    "constellation2 = \"金牛座\"\n",
    "\n",
    "prompt = f\"请扮演星座大师，{constellation1}和{constellation2}在一起，怎么样？，结果用文言文显示，字数100字，每隔20字左右就换行。\"\n",
    "\n",
    "result = xf.xfllm(prompt)\n",
    "print(result)\n"
   ]
  },
  {
   "cell_type": "code",
   "execution_count": 9,
   "metadata": {},
   "outputs": [
    {
     "data": {
      "text/plain": [
       "9"
      ]
     },
     "execution_count": 9,
     "metadata": {},
     "output_type": "execute_result"
    }
   ],
   "source": [
    "len('汉字english')"
   ]
  }
 ],
 "metadata": {
  "kernelspec": {
   "display_name": "Python 3",
   "language": "python",
   "name": "python3"
  },
  "language_info": {
   "codemirror_mode": {
    "name": "ipython",
    "version": 3
   },
   "file_extension": ".py",
   "mimetype": "text/x-python",
   "name": "python",
   "nbconvert_exporter": "python",
   "pygments_lexer": "ipython3",
   "version": "3.8.10"
  },
  "orig_nbformat": 4
 },
 "nbformat": 4,
 "nbformat_minor": 2
}
